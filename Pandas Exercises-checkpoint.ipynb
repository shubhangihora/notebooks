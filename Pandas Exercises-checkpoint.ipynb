{
 "cells": [
  {
   "cell_type": "markdown",
   "metadata": {},
   "source": [
    "# pandas exercises"
   ]
  },
  {
   "cell_type": "markdown",
   "metadata": {},
   "source": [
    "importing the required packages (pandas, numpy and matplotlib)"
   ]
  },
  {
   "cell_type": "code",
   "execution_count": 1,
   "metadata": {
    "collapsed": true
   },
   "outputs": [],
   "source": [
    "import pandas as pd\n",
    "import numpy as np\n",
    "import matplotlib.pyplot as plt"
   ]
  },
  {
   "cell_type": "markdown",
   "metadata": {},
   "source": [
    "### object creation"
   ]
  },
  {
   "cell_type": "markdown",
   "metadata": {},
   "source": [
    "the first object that can be created is called a series. a series is a one-dimensional array with an index (either number-based or label-based). below, we are creating a Series by passing a list of values, but not passing an index - pandas creates a deafult integer index. "
   ]
  },
  {
   "cell_type": "code",
   "execution_count": 4,
   "metadata": {},
   "outputs": [
    {
     "data": {
      "text/plain": [
       "0    95.0\n",
       "1    61.0\n",
       "2    17.0\n",
       "3     NaN\n",
       "4    87.0\n",
       "5    13.0\n",
       "dtype: float64"
      ]
     },
     "execution_count": 4,
     "metadata": {},
     "output_type": "execute_result"
    }
   ],
   "source": [
    "s = pd.Series([95, 61, 17, np.nan, 87, 13])\n",
    "s"
   ]
  },
  {
   "cell_type": "markdown",
   "metadata": {},
   "source": [
    "below is a series wherein the index is defined as labels, hence pandas doesn't need to create a default index. the series describes how many pets xyz has. "
   ]
  },
  {
   "cell_type": "code",
   "execution_count": 14,
   "metadata": {},
   "outputs": [
    {
     "data": {
      "text/plain": [
       "dogs     3\n",
       "cats     0\n",
       "fish     1\n",
       "birds    4\n",
       "dtype: int64"
      ]
     },
     "execution_count": 14,
     "metadata": {},
     "output_type": "execute_result"
    }
   ],
   "source": [
    "s2 = pd.Series(data = [3, 0, 1, 4], index = ['dogs', 'cats', 'fish', 'birds'])\n",
    "s2"
   ]
  },
  {
   "cell_type": "markdown",
   "metadata": {},
   "source": [
    "the next object is a dataframe, which is a two-dimensional labeled data structure with columns that could be of different datatypes. this is the most commonly used pandas objext. below, we are creating a DataFrame by passing a numpy array consisting of dates from 01/01/2017 to 01/12/2017:"
   ]
  },
  {
   "cell_type": "code",
   "execution_count": 5,
   "metadata": {},
   "outputs": [
    {
     "data": {
      "text/plain": [
       "DatetimeIndex(['2017-01-01', '2017-01-02', '2017-01-03', '2017-01-04',\n",
       "               '2017-01-05', '2017-01-06', '2017-01-07', '2017-01-08',\n",
       "               '2017-01-09', '2017-01-10', '2017-01-11', '2017-01-12'],\n",
       "              dtype='datetime64[ns]', freq='D')"
      ]
     },
     "execution_count": 5,
     "metadata": {},
     "output_type": "execute_result"
    }
   ],
   "source": [
    "d = pd.date_range('20170101', periods = 12)\n",
    "d"
   ]
  },
  {
   "cell_type": "markdown",
   "metadata": {},
   "source": [
    "now we are creating a dataframe that uses the above defined dates as the index. we are hardcoding the column names as A, B, C and D and ranndomizing the data that is being put into the cells using numpy's random method. "
   ]
  },
  {
   "cell_type": "code",
   "execution_count": 9,
   "metadata": {},
   "outputs": [
    {
     "data": {
      "text/html": [
       "<div>\n",
       "<style>\n",
       "    .dataframe thead tr:only-child th {\n",
       "        text-align: right;\n",
       "    }\n",
       "\n",
       "    .dataframe thead th {\n",
       "        text-align: left;\n",
       "    }\n",
       "\n",
       "    .dataframe tbody tr th {\n",
       "        vertical-align: top;\n",
       "    }\n",
       "</style>\n",
       "<table border=\"1\" class=\"dataframe\">\n",
       "  <thead>\n",
       "    <tr style=\"text-align: right;\">\n",
       "      <th></th>\n",
       "      <th>A</th>\n",
       "      <th>B</th>\n",
       "      <th>C</th>\n",
       "      <th>D</th>\n",
       "    </tr>\n",
       "  </thead>\n",
       "  <tbody>\n",
       "    <tr>\n",
       "      <th>2017-01-01</th>\n",
       "      <td>0.467144</td>\n",
       "      <td>-1.368871</td>\n",
       "      <td>-0.385248</td>\n",
       "      <td>-1.379729</td>\n",
       "    </tr>\n",
       "    <tr>\n",
       "      <th>2017-01-02</th>\n",
       "      <td>-0.031585</td>\n",
       "      <td>-0.927222</td>\n",
       "      <td>-0.833803</td>\n",
       "      <td>-0.408875</td>\n",
       "    </tr>\n",
       "    <tr>\n",
       "      <th>2017-01-03</th>\n",
       "      <td>0.486853</td>\n",
       "      <td>-0.435983</td>\n",
       "      <td>-0.013856</td>\n",
       "      <td>1.379792</td>\n",
       "    </tr>\n",
       "    <tr>\n",
       "      <th>2017-01-04</th>\n",
       "      <td>-0.613660</td>\n",
       "      <td>0.108098</td>\n",
       "      <td>0.311309</td>\n",
       "      <td>-2.726859</td>\n",
       "    </tr>\n",
       "    <tr>\n",
       "      <th>2017-01-05</th>\n",
       "      <td>-0.715277</td>\n",
       "      <td>-0.132024</td>\n",
       "      <td>-1.182866</td>\n",
       "      <td>0.506304</td>\n",
       "    </tr>\n",
       "    <tr>\n",
       "      <th>2017-01-06</th>\n",
       "      <td>-0.902316</td>\n",
       "      <td>0.954525</td>\n",
       "      <td>-1.602932</td>\n",
       "      <td>-0.616060</td>\n",
       "    </tr>\n",
       "    <tr>\n",
       "      <th>2017-01-07</th>\n",
       "      <td>-1.649558</td>\n",
       "      <td>-0.771366</td>\n",
       "      <td>0.526407</td>\n",
       "      <td>0.522111</td>\n",
       "    </tr>\n",
       "    <tr>\n",
       "      <th>2017-01-08</th>\n",
       "      <td>0.183001</td>\n",
       "      <td>-1.492221</td>\n",
       "      <td>0.151862</td>\n",
       "      <td>0.098014</td>\n",
       "    </tr>\n",
       "    <tr>\n",
       "      <th>2017-01-09</th>\n",
       "      <td>0.121631</td>\n",
       "      <td>-0.674177</td>\n",
       "      <td>-0.442565</td>\n",
       "      <td>1.257951</td>\n",
       "    </tr>\n",
       "    <tr>\n",
       "      <th>2017-01-10</th>\n",
       "      <td>-0.572360</td>\n",
       "      <td>-0.139874</td>\n",
       "      <td>0.480380</td>\n",
       "      <td>1.474336</td>\n",
       "    </tr>\n",
       "    <tr>\n",
       "      <th>2017-01-11</th>\n",
       "      <td>0.899110</td>\n",
       "      <td>0.528089</td>\n",
       "      <td>-1.219094</td>\n",
       "      <td>-1.797105</td>\n",
       "    </tr>\n",
       "    <tr>\n",
       "      <th>2017-01-12</th>\n",
       "      <td>-1.652831</td>\n",
       "      <td>1.331301</td>\n",
       "      <td>0.803023</td>\n",
       "      <td>-1.553754</td>\n",
       "    </tr>\n",
       "  </tbody>\n",
       "</table>\n",
       "</div>"
      ],
      "text/plain": [
       "                   A         B         C         D\n",
       "2017-01-01  0.467144 -1.368871 -0.385248 -1.379729\n",
       "2017-01-02 -0.031585 -0.927222 -0.833803 -0.408875\n",
       "2017-01-03  0.486853 -0.435983 -0.013856  1.379792\n",
       "2017-01-04 -0.613660  0.108098  0.311309 -2.726859\n",
       "2017-01-05 -0.715277 -0.132024 -1.182866  0.506304\n",
       "2017-01-06 -0.902316  0.954525 -1.602932 -0.616060\n",
       "2017-01-07 -1.649558 -0.771366  0.526407  0.522111\n",
       "2017-01-08  0.183001 -1.492221  0.151862  0.098014\n",
       "2017-01-09  0.121631 -0.674177 -0.442565  1.257951\n",
       "2017-01-10 -0.572360 -0.139874  0.480380  1.474336\n",
       "2017-01-11  0.899110  0.528089 -1.219094 -1.797105\n",
       "2017-01-12 -1.652831  1.331301  0.803023 -1.553754"
      ]
     },
     "execution_count": 9,
     "metadata": {},
     "output_type": "execute_result"
    }
   ],
   "source": [
    "df = pd.DataFrame(np.random.randn(12,4), index = d, columns = list('ABCD'))\n",
    "df"
   ]
  },
  {
   "cell_type": "markdown",
   "metadata": {},
   "source": [
    "another object is called the dictionary. a dictionary consists of unique keys that correspond to values. for example, a simple Oxford English dictionary has alphabets that are the keys, and the words that begin with that alphabet as the values that the alphabet corresponds to. dictionaries can be used to create dataframes, by passing it to the datadrame method. "
   ]
  },
  {
   "cell_type": "code",
   "execution_count": 30,
   "metadata": {},
   "outputs": [
    {
     "data": {
      "text/html": [
       "<div>\n",
       "<style>\n",
       "    .dataframe thead tr:only-child th {\n",
       "        text-align: right;\n",
       "    }\n",
       "\n",
       "    .dataframe thead th {\n",
       "        text-align: left;\n",
       "    }\n",
       "\n",
       "    .dataframe tbody tr th {\n",
       "        vertical-align: top;\n",
       "    }\n",
       "</style>\n",
       "<table border=\"1\" class=\"dataframe\">\n",
       "  <thead>\n",
       "    <tr style=\"text-align: right;\">\n",
       "      <th></th>\n",
       "      <th>Adopted</th>\n",
       "      <th>Animal</th>\n",
       "      <th>How many</th>\n",
       "      <th>Since when</th>\n",
       "    </tr>\n",
       "  </thead>\n",
       "  <tbody>\n",
       "    <tr>\n",
       "      <th>0</th>\n",
       "      <td>yes</td>\n",
       "      <td>dog</td>\n",
       "      <td>3</td>\n",
       "      <td>2017-01-02</td>\n",
       "    </tr>\n",
       "    <tr>\n",
       "      <th>1</th>\n",
       "      <td>yes</td>\n",
       "      <td>cat</td>\n",
       "      <td>3</td>\n",
       "      <td>2017-01-02</td>\n",
       "    </tr>\n",
       "    <tr>\n",
       "      <th>2</th>\n",
       "      <td>yes</td>\n",
       "      <td>fish</td>\n",
       "      <td>3</td>\n",
       "      <td>2017-01-02</td>\n",
       "    </tr>\n",
       "    <tr>\n",
       "      <th>3</th>\n",
       "      <td>yes</td>\n",
       "      <td>bird</td>\n",
       "      <td>3</td>\n",
       "      <td>2017-01-02</td>\n",
       "    </tr>\n",
       "  </tbody>\n",
       "</table>\n",
       "</div>"
      ],
      "text/plain": [
       "  Adopted Animal  How many Since when\n",
       "0     yes    dog         3 2017-01-02\n",
       "1     yes    cat         3 2017-01-02\n",
       "2     yes   fish         3 2017-01-02\n",
       "3     yes   bird         3 2017-01-02"
      ]
     },
     "execution_count": 30,
     "metadata": {},
     "output_type": "execute_result"
    }
   ],
   "source": [
    "df2 = pd.DataFrame({ #'A' : 1.,\n",
    "                     'Since when' : pd.Timestamp('20170102'),\n",
    "                     #'C' : pd.Series(1,index=list(range(4)),dtype='float32'),\n",
    "                     'How many' : np.array([3] * 4,dtype='int32'),\n",
    "                     'Animal' : pd.Categorical([\"dog\",\"cat\",\"fish\",\"bird\"]),\n",
    "                     'Adopted' : 'yes' })\n",
    "df2"
   ]
  },
  {
   "cell_type": "markdown",
   "metadata": {},
   "source": [
    "next, we will print the datatypes of each column"
   ]
  },
  {
   "cell_type": "code",
   "execution_count": 32,
   "metadata": {},
   "outputs": [
    {
     "data": {
      "text/plain": [
       "Adopted               object\n",
       "Animal              category\n",
       "How many               int32\n",
       "Since when    datetime64[ns]\n",
       "dtype: object"
      ]
     },
     "execution_count": 32,
     "metadata": {},
     "output_type": "execute_result"
    }
   ],
   "source": [
    "df2.dtypes"
   ]
  },
  {
   "cell_type": "markdown",
   "metadata": {},
   "source": [
    "### viewing data"
   ]
  },
  {
   "cell_type": "markdown",
   "metadata": {},
   "source": [
    "there are several ways to view the data that you have entered, or data that is present in a dataset. the first way is to veiw the top first n rows and the last n rows. you can enter the number of rows you'd like to see as a parameter within the method. the first n rows can be seen using .head(n) and the last n rows can be viewed using .tail(n)"
   ]
  },
  {
   "cell_type": "code",
   "execution_count": 33,
   "metadata": {},
   "outputs": [
    {
     "data": {
      "text/html": [
       "<div>\n",
       "<style>\n",
       "    .dataframe thead tr:only-child th {\n",
       "        text-align: right;\n",
       "    }\n",
       "\n",
       "    .dataframe thead th {\n",
       "        text-align: left;\n",
       "    }\n",
       "\n",
       "    .dataframe tbody tr th {\n",
       "        vertical-align: top;\n",
       "    }\n",
       "</style>\n",
       "<table border=\"1\" class=\"dataframe\">\n",
       "  <thead>\n",
       "    <tr style=\"text-align: right;\">\n",
       "      <th></th>\n",
       "      <th>A</th>\n",
       "      <th>B</th>\n",
       "      <th>C</th>\n",
       "      <th>D</th>\n",
       "    </tr>\n",
       "  </thead>\n",
       "  <tbody>\n",
       "    <tr>\n",
       "      <th>2017-01-01</th>\n",
       "      <td>0.467144</td>\n",
       "      <td>-1.368871</td>\n",
       "      <td>-0.385248</td>\n",
       "      <td>-1.379729</td>\n",
       "    </tr>\n",
       "    <tr>\n",
       "      <th>2017-01-02</th>\n",
       "      <td>-0.031585</td>\n",
       "      <td>-0.927222</td>\n",
       "      <td>-0.833803</td>\n",
       "      <td>-0.408875</td>\n",
       "    </tr>\n",
       "    <tr>\n",
       "      <th>2017-01-03</th>\n",
       "      <td>0.486853</td>\n",
       "      <td>-0.435983</td>\n",
       "      <td>-0.013856</td>\n",
       "      <td>1.379792</td>\n",
       "    </tr>\n",
       "  </tbody>\n",
       "</table>\n",
       "</div>"
      ],
      "text/plain": [
       "                   A         B         C         D\n",
       "2017-01-01  0.467144 -1.368871 -0.385248 -1.379729\n",
       "2017-01-02 -0.031585 -0.927222 -0.833803 -0.408875\n",
       "2017-01-03  0.486853 -0.435983 -0.013856  1.379792"
      ]
     },
     "execution_count": 33,
     "metadata": {},
     "output_type": "execute_result"
    }
   ],
   "source": [
    "df.head(3)"
   ]
  },
  {
   "cell_type": "code",
   "execution_count": 34,
   "metadata": {},
   "outputs": [
    {
     "data": {
      "text/html": [
       "<div>\n",
       "<style>\n",
       "    .dataframe thead tr:only-child th {\n",
       "        text-align: right;\n",
       "    }\n",
       "\n",
       "    .dataframe thead th {\n",
       "        text-align: left;\n",
       "    }\n",
       "\n",
       "    .dataframe tbody tr th {\n",
       "        vertical-align: top;\n",
       "    }\n",
       "</style>\n",
       "<table border=\"1\" class=\"dataframe\">\n",
       "  <thead>\n",
       "    <tr style=\"text-align: right;\">\n",
       "      <th></th>\n",
       "      <th>A</th>\n",
       "      <th>B</th>\n",
       "      <th>C</th>\n",
       "      <th>D</th>\n",
       "    </tr>\n",
       "  </thead>\n",
       "  <tbody>\n",
       "    <tr>\n",
       "      <th>2017-01-08</th>\n",
       "      <td>0.183001</td>\n",
       "      <td>-1.492221</td>\n",
       "      <td>0.151862</td>\n",
       "      <td>0.098014</td>\n",
       "    </tr>\n",
       "    <tr>\n",
       "      <th>2017-01-09</th>\n",
       "      <td>0.121631</td>\n",
       "      <td>-0.674177</td>\n",
       "      <td>-0.442565</td>\n",
       "      <td>1.257951</td>\n",
       "    </tr>\n",
       "    <tr>\n",
       "      <th>2017-01-10</th>\n",
       "      <td>-0.572360</td>\n",
       "      <td>-0.139874</td>\n",
       "      <td>0.480380</td>\n",
       "      <td>1.474336</td>\n",
       "    </tr>\n",
       "    <tr>\n",
       "      <th>2017-01-11</th>\n",
       "      <td>0.899110</td>\n",
       "      <td>0.528089</td>\n",
       "      <td>-1.219094</td>\n",
       "      <td>-1.797105</td>\n",
       "    </tr>\n",
       "    <tr>\n",
       "      <th>2017-01-12</th>\n",
       "      <td>-1.652831</td>\n",
       "      <td>1.331301</td>\n",
       "      <td>0.803023</td>\n",
       "      <td>-1.553754</td>\n",
       "    </tr>\n",
       "  </tbody>\n",
       "</table>\n",
       "</div>"
      ],
      "text/plain": [
       "                   A         B         C         D\n",
       "2017-01-08  0.183001 -1.492221  0.151862  0.098014\n",
       "2017-01-09  0.121631 -0.674177 -0.442565  1.257951\n",
       "2017-01-10 -0.572360 -0.139874  0.480380  1.474336\n",
       "2017-01-11  0.899110  0.528089 -1.219094 -1.797105\n",
       "2017-01-12 -1.652831  1.331301  0.803023 -1.553754"
      ]
     },
     "execution_count": 34,
     "metadata": {},
     "output_type": "execute_result"
    }
   ],
   "source": [
    "df.tail(5)"
   ]
  },
  {
   "cell_type": "markdown",
   "metadata": {},
   "source": [
    "you can also display the index used, the column names as well as the values separately using the following functions respectively:"
   ]
  },
  {
   "cell_type": "code",
   "execution_count": 35,
   "metadata": {},
   "outputs": [
    {
     "data": {
      "text/plain": [
       "DatetimeIndex(['2017-01-01', '2017-01-02', '2017-01-03', '2017-01-04',\n",
       "               '2017-01-05', '2017-01-06', '2017-01-07', '2017-01-08',\n",
       "               '2017-01-09', '2017-01-10', '2017-01-11', '2017-01-12'],\n",
       "              dtype='datetime64[ns]', freq='D')"
      ]
     },
     "execution_count": 35,
     "metadata": {},
     "output_type": "execute_result"
    }
   ],
   "source": [
    "df.index"
   ]
  },
  {
   "cell_type": "code",
   "execution_count": 36,
   "metadata": {},
   "outputs": [
    {
     "data": {
      "text/plain": [
       "Index(['A', 'B', 'C', 'D'], dtype='object')"
      ]
     },
     "execution_count": 36,
     "metadata": {},
     "output_type": "execute_result"
    }
   ],
   "source": [
    "df.columns"
   ]
  },
  {
   "cell_type": "code",
   "execution_count": 37,
   "metadata": {},
   "outputs": [
    {
     "data": {
      "text/plain": [
       "array([[ 0.46714396, -1.36887069, -0.38524798, -1.37972916],\n",
       "       [-0.03158529, -0.92722183, -0.83380251, -0.40887526],\n",
       "       [ 0.48685252, -0.43598305, -0.01385611,  1.3797919 ],\n",
       "       [-0.61365969,  0.10809817,  0.31130929, -2.72685913],\n",
       "       [-0.71527681, -0.132024  , -1.18286555,  0.50630443],\n",
       "       [-0.90231574,  0.95452545, -1.60293152, -0.61606038],\n",
       "       [-1.64955836, -0.77136569,  0.52640696,  0.52211055],\n",
       "       [ 0.18300061, -1.49222056,  0.15186177,  0.09801385],\n",
       "       [ 0.12163122, -0.6741771 , -0.44256462,  1.25795138],\n",
       "       [-0.57236044, -0.13987419,  0.48037957,  1.47433579],\n",
       "       [ 0.89910977,  0.52808931, -1.21909391, -1.79710477],\n",
       "       [-1.65283149,  1.33130119,  0.80302279, -1.55375381]])"
      ]
     },
     "execution_count": 37,
     "metadata": {},
     "output_type": "execute_result"
    }
   ],
   "source": [
    "df.values"
   ]
  },
  {
   "cell_type": "markdown",
   "metadata": {},
   "source": [
    "a quick way to view the statistical summary of your data is by using the describe method. it gives you the count of values, mean, standard deviation, minimum value, maximum value and a lot more information about each column. "
   ]
  },
  {
   "cell_type": "code",
   "execution_count": 39,
   "metadata": {},
   "outputs": [
    {
     "data": {
      "text/html": [
       "<div>\n",
       "<style>\n",
       "    .dataframe thead tr:only-child th {\n",
       "        text-align: right;\n",
       "    }\n",
       "\n",
       "    .dataframe thead th {\n",
       "        text-align: left;\n",
       "    }\n",
       "\n",
       "    .dataframe tbody tr th {\n",
       "        vertical-align: top;\n",
       "    }\n",
       "</style>\n",
       "<table border=\"1\" class=\"dataframe\">\n",
       "  <thead>\n",
       "    <tr style=\"text-align: right;\">\n",
       "      <th></th>\n",
       "      <th>A</th>\n",
       "      <th>B</th>\n",
       "      <th>C</th>\n",
       "      <th>D</th>\n",
       "    </tr>\n",
       "  </thead>\n",
       "  <tbody>\n",
       "    <tr>\n",
       "      <th>count</th>\n",
       "      <td>12.000000</td>\n",
       "      <td>12.000000</td>\n",
       "      <td>12.000000</td>\n",
       "      <td>12.000000</td>\n",
       "    </tr>\n",
       "    <tr>\n",
       "      <th>mean</th>\n",
       "      <td>-0.331654</td>\n",
       "      <td>-0.251644</td>\n",
       "      <td>-0.283948</td>\n",
       "      <td>-0.270323</td>\n",
       "    </tr>\n",
       "    <tr>\n",
       "      <th>std</th>\n",
       "      <td>0.824393</td>\n",
       "      <td>0.876513</td>\n",
       "      <td>0.786223</td>\n",
       "      <td>1.376803</td>\n",
       "    </tr>\n",
       "    <tr>\n",
       "      <th>min</th>\n",
       "      <td>-1.652831</td>\n",
       "      <td>-1.492221</td>\n",
       "      <td>-1.602932</td>\n",
       "      <td>-2.726859</td>\n",
       "    </tr>\n",
       "    <tr>\n",
       "      <th>25%</th>\n",
       "      <td>-0.762037</td>\n",
       "      <td>-0.810330</td>\n",
       "      <td>-0.921068</td>\n",
       "      <td>-1.423235</td>\n",
       "    </tr>\n",
       "    <tr>\n",
       "      <th>50%</th>\n",
       "      <td>-0.301973</td>\n",
       "      <td>-0.287929</td>\n",
       "      <td>-0.199552</td>\n",
       "      <td>-0.155431</td>\n",
       "    </tr>\n",
       "    <tr>\n",
       "      <th>75%</th>\n",
       "      <td>0.254036</td>\n",
       "      <td>0.213096</td>\n",
       "      <td>0.353577</td>\n",
       "      <td>0.706071</td>\n",
       "    </tr>\n",
       "    <tr>\n",
       "      <th>max</th>\n",
       "      <td>0.899110</td>\n",
       "      <td>1.331301</td>\n",
       "      <td>0.803023</td>\n",
       "      <td>1.474336</td>\n",
       "    </tr>\n",
       "  </tbody>\n",
       "</table>\n",
       "</div>"
      ],
      "text/plain": [
       "               A          B          C          D\n",
       "count  12.000000  12.000000  12.000000  12.000000\n",
       "mean   -0.331654  -0.251644  -0.283948  -0.270323\n",
       "std     0.824393   0.876513   0.786223   1.376803\n",
       "min    -1.652831  -1.492221  -1.602932  -2.726859\n",
       "25%    -0.762037  -0.810330  -0.921068  -1.423235\n",
       "50%    -0.301973  -0.287929  -0.199552  -0.155431\n",
       "75%     0.254036   0.213096   0.353577   0.706071\n",
       "max     0.899110   1.331301   0.803023   1.474336"
      ]
     },
     "execution_count": 39,
     "metadata": {},
     "output_type": "execute_result"
    }
   ],
   "source": [
    "df.describe()"
   ]
  },
  {
   "cell_type": "markdown",
   "metadata": {},
   "source": [
    "you can also transpose your data to switch the columns and rows, as follows:"
   ]
  },
  {
   "cell_type": "code",
   "execution_count": 40,
   "metadata": {},
   "outputs": [
    {
     "data": {
      "text/html": [
       "<div>\n",
       "<style>\n",
       "    .dataframe thead tr:only-child th {\n",
       "        text-align: right;\n",
       "    }\n",
       "\n",
       "    .dataframe thead th {\n",
       "        text-align: left;\n",
       "    }\n",
       "\n",
       "    .dataframe tbody tr th {\n",
       "        vertical-align: top;\n",
       "    }\n",
       "</style>\n",
       "<table border=\"1\" class=\"dataframe\">\n",
       "  <thead>\n",
       "    <tr style=\"text-align: right;\">\n",
       "      <th></th>\n",
       "      <th>2017-01-01 00:00:00</th>\n",
       "      <th>2017-01-02 00:00:00</th>\n",
       "      <th>2017-01-03 00:00:00</th>\n",
       "      <th>2017-01-04 00:00:00</th>\n",
       "      <th>2017-01-05 00:00:00</th>\n",
       "      <th>2017-01-06 00:00:00</th>\n",
       "      <th>2017-01-07 00:00:00</th>\n",
       "      <th>2017-01-08 00:00:00</th>\n",
       "      <th>2017-01-09 00:00:00</th>\n",
       "      <th>2017-01-10 00:00:00</th>\n",
       "      <th>2017-01-11 00:00:00</th>\n",
       "      <th>2017-01-12 00:00:00</th>\n",
       "    </tr>\n",
       "  </thead>\n",
       "  <tbody>\n",
       "    <tr>\n",
       "      <th>A</th>\n",
       "      <td>0.467144</td>\n",
       "      <td>-0.031585</td>\n",
       "      <td>0.486853</td>\n",
       "      <td>-0.613660</td>\n",
       "      <td>-0.715277</td>\n",
       "      <td>-0.902316</td>\n",
       "      <td>-1.649558</td>\n",
       "      <td>0.183001</td>\n",
       "      <td>0.121631</td>\n",
       "      <td>-0.572360</td>\n",
       "      <td>0.899110</td>\n",
       "      <td>-1.652831</td>\n",
       "    </tr>\n",
       "    <tr>\n",
       "      <th>B</th>\n",
       "      <td>-1.368871</td>\n",
       "      <td>-0.927222</td>\n",
       "      <td>-0.435983</td>\n",
       "      <td>0.108098</td>\n",
       "      <td>-0.132024</td>\n",
       "      <td>0.954525</td>\n",
       "      <td>-0.771366</td>\n",
       "      <td>-1.492221</td>\n",
       "      <td>-0.674177</td>\n",
       "      <td>-0.139874</td>\n",
       "      <td>0.528089</td>\n",
       "      <td>1.331301</td>\n",
       "    </tr>\n",
       "    <tr>\n",
       "      <th>C</th>\n",
       "      <td>-0.385248</td>\n",
       "      <td>-0.833803</td>\n",
       "      <td>-0.013856</td>\n",
       "      <td>0.311309</td>\n",
       "      <td>-1.182866</td>\n",
       "      <td>-1.602932</td>\n",
       "      <td>0.526407</td>\n",
       "      <td>0.151862</td>\n",
       "      <td>-0.442565</td>\n",
       "      <td>0.480380</td>\n",
       "      <td>-1.219094</td>\n",
       "      <td>0.803023</td>\n",
       "    </tr>\n",
       "    <tr>\n",
       "      <th>D</th>\n",
       "      <td>-1.379729</td>\n",
       "      <td>-0.408875</td>\n",
       "      <td>1.379792</td>\n",
       "      <td>-2.726859</td>\n",
       "      <td>0.506304</td>\n",
       "      <td>-0.616060</td>\n",
       "      <td>0.522111</td>\n",
       "      <td>0.098014</td>\n",
       "      <td>1.257951</td>\n",
       "      <td>1.474336</td>\n",
       "      <td>-1.797105</td>\n",
       "      <td>-1.553754</td>\n",
       "    </tr>\n",
       "  </tbody>\n",
       "</table>\n",
       "</div>"
      ],
      "text/plain": [
       "   2017-01-01  2017-01-02  2017-01-03  2017-01-04  2017-01-05  2017-01-06  \\\n",
       "A    0.467144   -0.031585    0.486853   -0.613660   -0.715277   -0.902316   \n",
       "B   -1.368871   -0.927222   -0.435983    0.108098   -0.132024    0.954525   \n",
       "C   -0.385248   -0.833803   -0.013856    0.311309   -1.182866   -1.602932   \n",
       "D   -1.379729   -0.408875    1.379792   -2.726859    0.506304   -0.616060   \n",
       "\n",
       "   2017-01-07  2017-01-08  2017-01-09  2017-01-10  2017-01-11  2017-01-12  \n",
       "A   -1.649558    0.183001    0.121631   -0.572360    0.899110   -1.652831  \n",
       "B   -0.771366   -1.492221   -0.674177   -0.139874    0.528089    1.331301  \n",
       "C    0.526407    0.151862   -0.442565    0.480380   -1.219094    0.803023  \n",
       "D    0.522111    0.098014    1.257951    1.474336   -1.797105   -1.553754  "
      ]
     },
     "execution_count": 40,
     "metadata": {},
     "output_type": "execute_result"
    }
   ],
   "source": [
    "df.T"
   ]
  },
  {
   "cell_type": "markdown",
   "metadata": {},
   "source": [
    "furthermore, you can sort your data in various ways, such as by index and by values (ascending or descending)"
   ]
  },
  {
   "cell_type": "code",
   "execution_count": 44,
   "metadata": {},
   "outputs": [
    {
     "data": {
      "text/html": [
       "<div>\n",
       "<style>\n",
       "    .dataframe thead tr:only-child th {\n",
       "        text-align: right;\n",
       "    }\n",
       "\n",
       "    .dataframe thead th {\n",
       "        text-align: left;\n",
       "    }\n",
       "\n",
       "    .dataframe tbody tr th {\n",
       "        vertical-align: top;\n",
       "    }\n",
       "</style>\n",
       "<table border=\"1\" class=\"dataframe\">\n",
       "  <thead>\n",
       "    <tr style=\"text-align: right;\">\n",
       "      <th></th>\n",
       "      <th>A</th>\n",
       "      <th>B</th>\n",
       "      <th>C</th>\n",
       "      <th>D</th>\n",
       "    </tr>\n",
       "  </thead>\n",
       "  <tbody>\n",
       "    <tr>\n",
       "      <th>2017-01-01</th>\n",
       "      <td>0.467144</td>\n",
       "      <td>-1.368871</td>\n",
       "      <td>-0.385248</td>\n",
       "      <td>-1.379729</td>\n",
       "    </tr>\n",
       "    <tr>\n",
       "      <th>2017-01-02</th>\n",
       "      <td>-0.031585</td>\n",
       "      <td>-0.927222</td>\n",
       "      <td>-0.833803</td>\n",
       "      <td>-0.408875</td>\n",
       "    </tr>\n",
       "    <tr>\n",
       "      <th>2017-01-03</th>\n",
       "      <td>0.486853</td>\n",
       "      <td>-0.435983</td>\n",
       "      <td>-0.013856</td>\n",
       "      <td>1.379792</td>\n",
       "    </tr>\n",
       "    <tr>\n",
       "      <th>2017-01-04</th>\n",
       "      <td>-0.613660</td>\n",
       "      <td>0.108098</td>\n",
       "      <td>0.311309</td>\n",
       "      <td>-2.726859</td>\n",
       "    </tr>\n",
       "    <tr>\n",
       "      <th>2017-01-05</th>\n",
       "      <td>-0.715277</td>\n",
       "      <td>-0.132024</td>\n",
       "      <td>-1.182866</td>\n",
       "      <td>0.506304</td>\n",
       "    </tr>\n",
       "    <tr>\n",
       "      <th>2017-01-06</th>\n",
       "      <td>-0.902316</td>\n",
       "      <td>0.954525</td>\n",
       "      <td>-1.602932</td>\n",
       "      <td>-0.616060</td>\n",
       "    </tr>\n",
       "    <tr>\n",
       "      <th>2017-01-07</th>\n",
       "      <td>-1.649558</td>\n",
       "      <td>-0.771366</td>\n",
       "      <td>0.526407</td>\n",
       "      <td>0.522111</td>\n",
       "    </tr>\n",
       "    <tr>\n",
       "      <th>2017-01-08</th>\n",
       "      <td>0.183001</td>\n",
       "      <td>-1.492221</td>\n",
       "      <td>0.151862</td>\n",
       "      <td>0.098014</td>\n",
       "    </tr>\n",
       "    <tr>\n",
       "      <th>2017-01-09</th>\n",
       "      <td>0.121631</td>\n",
       "      <td>-0.674177</td>\n",
       "      <td>-0.442565</td>\n",
       "      <td>1.257951</td>\n",
       "    </tr>\n",
       "    <tr>\n",
       "      <th>2017-01-10</th>\n",
       "      <td>-0.572360</td>\n",
       "      <td>-0.139874</td>\n",
       "      <td>0.480380</td>\n",
       "      <td>1.474336</td>\n",
       "    </tr>\n",
       "    <tr>\n",
       "      <th>2017-01-11</th>\n",
       "      <td>0.899110</td>\n",
       "      <td>0.528089</td>\n",
       "      <td>-1.219094</td>\n",
       "      <td>-1.797105</td>\n",
       "    </tr>\n",
       "    <tr>\n",
       "      <th>2017-01-12</th>\n",
       "      <td>-1.652831</td>\n",
       "      <td>1.331301</td>\n",
       "      <td>0.803023</td>\n",
       "      <td>-1.553754</td>\n",
       "    </tr>\n",
       "  </tbody>\n",
       "</table>\n",
       "</div>"
      ],
      "text/plain": [
       "                   A         B         C         D\n",
       "2017-01-01  0.467144 -1.368871 -0.385248 -1.379729\n",
       "2017-01-02 -0.031585 -0.927222 -0.833803 -0.408875\n",
       "2017-01-03  0.486853 -0.435983 -0.013856  1.379792\n",
       "2017-01-04 -0.613660  0.108098  0.311309 -2.726859\n",
       "2017-01-05 -0.715277 -0.132024 -1.182866  0.506304\n",
       "2017-01-06 -0.902316  0.954525 -1.602932 -0.616060\n",
       "2017-01-07 -1.649558 -0.771366  0.526407  0.522111\n",
       "2017-01-08  0.183001 -1.492221  0.151862  0.098014\n",
       "2017-01-09  0.121631 -0.674177 -0.442565  1.257951\n",
       "2017-01-10 -0.572360 -0.139874  0.480380  1.474336\n",
       "2017-01-11  0.899110  0.528089 -1.219094 -1.797105\n",
       "2017-01-12 -1.652831  1.331301  0.803023 -1.553754"
      ]
     },
     "execution_count": 44,
     "metadata": {},
     "output_type": "execute_result"
    }
   ],
   "source": [
    "df.sort_index(axis = 1, ascending = True)"
   ]
  },
  {
   "cell_type": "code",
   "execution_count": 45,
   "metadata": {},
   "outputs": [
    {
     "data": {
      "text/html": [
       "<div>\n",
       "<style>\n",
       "    .dataframe thead tr:only-child th {\n",
       "        text-align: right;\n",
       "    }\n",
       "\n",
       "    .dataframe thead th {\n",
       "        text-align: left;\n",
       "    }\n",
       "\n",
       "    .dataframe tbody tr th {\n",
       "        vertical-align: top;\n",
       "    }\n",
       "</style>\n",
       "<table border=\"1\" class=\"dataframe\">\n",
       "  <thead>\n",
       "    <tr style=\"text-align: right;\">\n",
       "      <th></th>\n",
       "      <th>D</th>\n",
       "      <th>C</th>\n",
       "      <th>B</th>\n",
       "      <th>A</th>\n",
       "    </tr>\n",
       "  </thead>\n",
       "  <tbody>\n",
       "    <tr>\n",
       "      <th>2017-01-01</th>\n",
       "      <td>-1.379729</td>\n",
       "      <td>-0.385248</td>\n",
       "      <td>-1.368871</td>\n",
       "      <td>0.467144</td>\n",
       "    </tr>\n",
       "    <tr>\n",
       "      <th>2017-01-02</th>\n",
       "      <td>-0.408875</td>\n",
       "      <td>-0.833803</td>\n",
       "      <td>-0.927222</td>\n",
       "      <td>-0.031585</td>\n",
       "    </tr>\n",
       "    <tr>\n",
       "      <th>2017-01-03</th>\n",
       "      <td>1.379792</td>\n",
       "      <td>-0.013856</td>\n",
       "      <td>-0.435983</td>\n",
       "      <td>0.486853</td>\n",
       "    </tr>\n",
       "    <tr>\n",
       "      <th>2017-01-04</th>\n",
       "      <td>-2.726859</td>\n",
       "      <td>0.311309</td>\n",
       "      <td>0.108098</td>\n",
       "      <td>-0.613660</td>\n",
       "    </tr>\n",
       "    <tr>\n",
       "      <th>2017-01-05</th>\n",
       "      <td>0.506304</td>\n",
       "      <td>-1.182866</td>\n",
       "      <td>-0.132024</td>\n",
       "      <td>-0.715277</td>\n",
       "    </tr>\n",
       "    <tr>\n",
       "      <th>2017-01-06</th>\n",
       "      <td>-0.616060</td>\n",
       "      <td>-1.602932</td>\n",
       "      <td>0.954525</td>\n",
       "      <td>-0.902316</td>\n",
       "    </tr>\n",
       "    <tr>\n",
       "      <th>2017-01-07</th>\n",
       "      <td>0.522111</td>\n",
       "      <td>0.526407</td>\n",
       "      <td>-0.771366</td>\n",
       "      <td>-1.649558</td>\n",
       "    </tr>\n",
       "    <tr>\n",
       "      <th>2017-01-08</th>\n",
       "      <td>0.098014</td>\n",
       "      <td>0.151862</td>\n",
       "      <td>-1.492221</td>\n",
       "      <td>0.183001</td>\n",
       "    </tr>\n",
       "    <tr>\n",
       "      <th>2017-01-09</th>\n",
       "      <td>1.257951</td>\n",
       "      <td>-0.442565</td>\n",
       "      <td>-0.674177</td>\n",
       "      <td>0.121631</td>\n",
       "    </tr>\n",
       "    <tr>\n",
       "      <th>2017-01-10</th>\n",
       "      <td>1.474336</td>\n",
       "      <td>0.480380</td>\n",
       "      <td>-0.139874</td>\n",
       "      <td>-0.572360</td>\n",
       "    </tr>\n",
       "    <tr>\n",
       "      <th>2017-01-11</th>\n",
       "      <td>-1.797105</td>\n",
       "      <td>-1.219094</td>\n",
       "      <td>0.528089</td>\n",
       "      <td>0.899110</td>\n",
       "    </tr>\n",
       "    <tr>\n",
       "      <th>2017-01-12</th>\n",
       "      <td>-1.553754</td>\n",
       "      <td>0.803023</td>\n",
       "      <td>1.331301</td>\n",
       "      <td>-1.652831</td>\n",
       "    </tr>\n",
       "  </tbody>\n",
       "</table>\n",
       "</div>"
      ],
      "text/plain": [
       "                   D         C         B         A\n",
       "2017-01-01 -1.379729 -0.385248 -1.368871  0.467144\n",
       "2017-01-02 -0.408875 -0.833803 -0.927222 -0.031585\n",
       "2017-01-03  1.379792 -0.013856 -0.435983  0.486853\n",
       "2017-01-04 -2.726859  0.311309  0.108098 -0.613660\n",
       "2017-01-05  0.506304 -1.182866 -0.132024 -0.715277\n",
       "2017-01-06 -0.616060 -1.602932  0.954525 -0.902316\n",
       "2017-01-07  0.522111  0.526407 -0.771366 -1.649558\n",
       "2017-01-08  0.098014  0.151862 -1.492221  0.183001\n",
       "2017-01-09  1.257951 -0.442565 -0.674177  0.121631\n",
       "2017-01-10  1.474336  0.480380 -0.139874 -0.572360\n",
       "2017-01-11 -1.797105 -1.219094  0.528089  0.899110\n",
       "2017-01-12 -1.553754  0.803023  1.331301 -1.652831"
      ]
     },
     "execution_count": 45,
     "metadata": {},
     "output_type": "execute_result"
    }
   ],
   "source": [
    "df.sort_index(axis = 1, ascending = False)"
   ]
  },
  {
   "cell_type": "code",
   "execution_count": 46,
   "metadata": {},
   "outputs": [
    {
     "data": {
      "text/html": [
       "<div>\n",
       "<style>\n",
       "    .dataframe thead tr:only-child th {\n",
       "        text-align: right;\n",
       "    }\n",
       "\n",
       "    .dataframe thead th {\n",
       "        text-align: left;\n",
       "    }\n",
       "\n",
       "    .dataframe tbody tr th {\n",
       "        vertical-align: top;\n",
       "    }\n",
       "</style>\n",
       "<table border=\"1\" class=\"dataframe\">\n",
       "  <thead>\n",
       "    <tr style=\"text-align: right;\">\n",
       "      <th></th>\n",
       "      <th>A</th>\n",
       "      <th>B</th>\n",
       "      <th>C</th>\n",
       "      <th>D</th>\n",
       "    </tr>\n",
       "  </thead>\n",
       "  <tbody>\n",
       "    <tr>\n",
       "      <th>2017-01-06</th>\n",
       "      <td>-0.902316</td>\n",
       "      <td>0.954525</td>\n",
       "      <td>-1.602932</td>\n",
       "      <td>-0.616060</td>\n",
       "    </tr>\n",
       "    <tr>\n",
       "      <th>2017-01-11</th>\n",
       "      <td>0.899110</td>\n",
       "      <td>0.528089</td>\n",
       "      <td>-1.219094</td>\n",
       "      <td>-1.797105</td>\n",
       "    </tr>\n",
       "    <tr>\n",
       "      <th>2017-01-05</th>\n",
       "      <td>-0.715277</td>\n",
       "      <td>-0.132024</td>\n",
       "      <td>-1.182866</td>\n",
       "      <td>0.506304</td>\n",
       "    </tr>\n",
       "    <tr>\n",
       "      <th>2017-01-02</th>\n",
       "      <td>-0.031585</td>\n",
       "      <td>-0.927222</td>\n",
       "      <td>-0.833803</td>\n",
       "      <td>-0.408875</td>\n",
       "    </tr>\n",
       "    <tr>\n",
       "      <th>2017-01-09</th>\n",
       "      <td>0.121631</td>\n",
       "      <td>-0.674177</td>\n",
       "      <td>-0.442565</td>\n",
       "      <td>1.257951</td>\n",
       "    </tr>\n",
       "    <tr>\n",
       "      <th>2017-01-01</th>\n",
       "      <td>0.467144</td>\n",
       "      <td>-1.368871</td>\n",
       "      <td>-0.385248</td>\n",
       "      <td>-1.379729</td>\n",
       "    </tr>\n",
       "    <tr>\n",
       "      <th>2017-01-03</th>\n",
       "      <td>0.486853</td>\n",
       "      <td>-0.435983</td>\n",
       "      <td>-0.013856</td>\n",
       "      <td>1.379792</td>\n",
       "    </tr>\n",
       "    <tr>\n",
       "      <th>2017-01-08</th>\n",
       "      <td>0.183001</td>\n",
       "      <td>-1.492221</td>\n",
       "      <td>0.151862</td>\n",
       "      <td>0.098014</td>\n",
       "    </tr>\n",
       "    <tr>\n",
       "      <th>2017-01-04</th>\n",
       "      <td>-0.613660</td>\n",
       "      <td>0.108098</td>\n",
       "      <td>0.311309</td>\n",
       "      <td>-2.726859</td>\n",
       "    </tr>\n",
       "    <tr>\n",
       "      <th>2017-01-10</th>\n",
       "      <td>-0.572360</td>\n",
       "      <td>-0.139874</td>\n",
       "      <td>0.480380</td>\n",
       "      <td>1.474336</td>\n",
       "    </tr>\n",
       "    <tr>\n",
       "      <th>2017-01-07</th>\n",
       "      <td>-1.649558</td>\n",
       "      <td>-0.771366</td>\n",
       "      <td>0.526407</td>\n",
       "      <td>0.522111</td>\n",
       "    </tr>\n",
       "    <tr>\n",
       "      <th>2017-01-12</th>\n",
       "      <td>-1.652831</td>\n",
       "      <td>1.331301</td>\n",
       "      <td>0.803023</td>\n",
       "      <td>-1.553754</td>\n",
       "    </tr>\n",
       "  </tbody>\n",
       "</table>\n",
       "</div>"
      ],
      "text/plain": [
       "                   A         B         C         D\n",
       "2017-01-06 -0.902316  0.954525 -1.602932 -0.616060\n",
       "2017-01-11  0.899110  0.528089 -1.219094 -1.797105\n",
       "2017-01-05 -0.715277 -0.132024 -1.182866  0.506304\n",
       "2017-01-02 -0.031585 -0.927222 -0.833803 -0.408875\n",
       "2017-01-09  0.121631 -0.674177 -0.442565  1.257951\n",
       "2017-01-01  0.467144 -1.368871 -0.385248 -1.379729\n",
       "2017-01-03  0.486853 -0.435983 -0.013856  1.379792\n",
       "2017-01-08  0.183001 -1.492221  0.151862  0.098014\n",
       "2017-01-04 -0.613660  0.108098  0.311309 -2.726859\n",
       "2017-01-10 -0.572360 -0.139874  0.480380  1.474336\n",
       "2017-01-07 -1.649558 -0.771366  0.526407  0.522111\n",
       "2017-01-12 -1.652831  1.331301  0.803023 -1.553754"
      ]
     },
     "execution_count": 46,
     "metadata": {},
     "output_type": "execute_result"
    }
   ],
   "source": [
    "df.sort_values(by = 'C')"
   ]
  },
  {
   "cell_type": "markdown",
   "metadata": {},
   "source": [
    "### selection"
   ]
  },
  {
   "cell_type": "markdown",
   "metadata": {},
   "source": [
    "there are many ways to select data. the first is getting. the following code gets the data present in the column D."
   ]
  },
  {
   "cell_type": "code",
   "execution_count": 47,
   "metadata": {},
   "outputs": [
    {
     "data": {
      "text/plain": [
       "2017-01-01   -1.379729\n",
       "2017-01-02   -0.408875\n",
       "2017-01-03    1.379792\n",
       "2017-01-04   -2.726859\n",
       "2017-01-05    0.506304\n",
       "2017-01-06   -0.616060\n",
       "2017-01-07    0.522111\n",
       "2017-01-08    0.098014\n",
       "2017-01-09    1.257951\n",
       "2017-01-10    1.474336\n",
       "2017-01-11   -1.797105\n",
       "2017-01-12   -1.553754\n",
       "Freq: D, Name: D, dtype: float64"
      ]
     },
     "execution_count": 47,
     "metadata": {},
     "output_type": "execute_result"
    }
   ],
   "source": [
    "df['D']"
   ]
  },
  {
   "cell_type": "code",
   "execution_count": 48,
   "metadata": {},
   "outputs": [
    {
     "data": {
      "text/plain": [
       "2017-01-01   -1.379729\n",
       "2017-01-02   -0.408875\n",
       "2017-01-03    1.379792\n",
       "2017-01-04   -2.726859\n",
       "2017-01-05    0.506304\n",
       "2017-01-06   -0.616060\n",
       "2017-01-07    0.522111\n",
       "2017-01-08    0.098014\n",
       "2017-01-09    1.257951\n",
       "2017-01-10    1.474336\n",
       "2017-01-11   -1.797105\n",
       "2017-01-12   -1.553754\n",
       "Freq: D, Name: D, dtype: float64"
      ]
     },
     "execution_count": 48,
     "metadata": {},
     "output_type": "execute_result"
    }
   ],
   "source": [
    "df.D"
   ]
  },
  {
   "cell_type": "markdown",
   "metadata": {},
   "source": [
    "the following code slices rows to give you a specific range of the data"
   ]
  },
  {
   "cell_type": "code",
   "execution_count": 49,
   "metadata": {},
   "outputs": [
    {
     "data": {
      "text/html": [
       "<div>\n",
       "<style>\n",
       "    .dataframe thead tr:only-child th {\n",
       "        text-align: right;\n",
       "    }\n",
       "\n",
       "    .dataframe thead th {\n",
       "        text-align: left;\n",
       "    }\n",
       "\n",
       "    .dataframe tbody tr th {\n",
       "        vertical-align: top;\n",
       "    }\n",
       "</style>\n",
       "<table border=\"1\" class=\"dataframe\">\n",
       "  <thead>\n",
       "    <tr style=\"text-align: right;\">\n",
       "      <th></th>\n",
       "      <th>A</th>\n",
       "      <th>B</th>\n",
       "      <th>C</th>\n",
       "      <th>D</th>\n",
       "    </tr>\n",
       "  </thead>\n",
       "  <tbody>\n",
       "    <tr>\n",
       "      <th>2017-01-02</th>\n",
       "      <td>-0.031585</td>\n",
       "      <td>-0.927222</td>\n",
       "      <td>-0.833803</td>\n",
       "      <td>-0.408875</td>\n",
       "    </tr>\n",
       "    <tr>\n",
       "      <th>2017-01-03</th>\n",
       "      <td>0.486853</td>\n",
       "      <td>-0.435983</td>\n",
       "      <td>-0.013856</td>\n",
       "      <td>1.379792</td>\n",
       "    </tr>\n",
       "    <tr>\n",
       "      <th>2017-01-04</th>\n",
       "      <td>-0.613660</td>\n",
       "      <td>0.108098</td>\n",
       "      <td>0.311309</td>\n",
       "      <td>-2.726859</td>\n",
       "    </tr>\n",
       "  </tbody>\n",
       "</table>\n",
       "</div>"
      ],
      "text/plain": [
       "                   A         B         C         D\n",
       "2017-01-02 -0.031585 -0.927222 -0.833803 -0.408875\n",
       "2017-01-03  0.486853 -0.435983 -0.013856  1.379792\n",
       "2017-01-04 -0.613660  0.108098  0.311309 -2.726859"
      ]
     },
     "execution_count": 49,
     "metadata": {},
     "output_type": "execute_result"
    }
   ],
   "source": [
    "df[1:4]"
   ]
  },
  {
   "cell_type": "code",
   "execution_count": 50,
   "metadata": {},
   "outputs": [
    {
     "data": {
      "text/html": [
       "<div>\n",
       "<style>\n",
       "    .dataframe thead tr:only-child th {\n",
       "        text-align: right;\n",
       "    }\n",
       "\n",
       "    .dataframe thead th {\n",
       "        text-align: left;\n",
       "    }\n",
       "\n",
       "    .dataframe tbody tr th {\n",
       "        vertical-align: top;\n",
       "    }\n",
       "</style>\n",
       "<table border=\"1\" class=\"dataframe\">\n",
       "  <thead>\n",
       "    <tr style=\"text-align: right;\">\n",
       "      <th></th>\n",
       "      <th>A</th>\n",
       "      <th>B</th>\n",
       "      <th>C</th>\n",
       "      <th>D</th>\n",
       "    </tr>\n",
       "  </thead>\n",
       "  <tbody>\n",
       "    <tr>\n",
       "      <th>2017-01-05</th>\n",
       "      <td>-0.715277</td>\n",
       "      <td>-0.132024</td>\n",
       "      <td>-1.182866</td>\n",
       "      <td>0.506304</td>\n",
       "    </tr>\n",
       "    <tr>\n",
       "      <th>2017-01-06</th>\n",
       "      <td>-0.902316</td>\n",
       "      <td>0.954525</td>\n",
       "      <td>-1.602932</td>\n",
       "      <td>-0.616060</td>\n",
       "    </tr>\n",
       "    <tr>\n",
       "      <th>2017-01-07</th>\n",
       "      <td>-1.649558</td>\n",
       "      <td>-0.771366</td>\n",
       "      <td>0.526407</td>\n",
       "      <td>0.522111</td>\n",
       "    </tr>\n",
       "    <tr>\n",
       "      <th>2017-01-08</th>\n",
       "      <td>0.183001</td>\n",
       "      <td>-1.492221</td>\n",
       "      <td>0.151862</td>\n",
       "      <td>0.098014</td>\n",
       "    </tr>\n",
       "    <tr>\n",
       "      <th>2017-01-09</th>\n",
       "      <td>0.121631</td>\n",
       "      <td>-0.674177</td>\n",
       "      <td>-0.442565</td>\n",
       "      <td>1.257951</td>\n",
       "    </tr>\n",
       "    <tr>\n",
       "      <th>2017-01-10</th>\n",
       "      <td>-0.572360</td>\n",
       "      <td>-0.139874</td>\n",
       "      <td>0.480380</td>\n",
       "      <td>1.474336</td>\n",
       "    </tr>\n",
       "    <tr>\n",
       "      <th>2017-01-11</th>\n",
       "      <td>0.899110</td>\n",
       "      <td>0.528089</td>\n",
       "      <td>-1.219094</td>\n",
       "      <td>-1.797105</td>\n",
       "    </tr>\n",
       "  </tbody>\n",
       "</table>\n",
       "</div>"
      ],
      "text/plain": [
       "                   A         B         C         D\n",
       "2017-01-05 -0.715277 -0.132024 -1.182866  0.506304\n",
       "2017-01-06 -0.902316  0.954525 -1.602932 -0.616060\n",
       "2017-01-07 -1.649558 -0.771366  0.526407  0.522111\n",
       "2017-01-08  0.183001 -1.492221  0.151862  0.098014\n",
       "2017-01-09  0.121631 -0.674177 -0.442565  1.257951\n",
       "2017-01-10 -0.572360 -0.139874  0.480380  1.474336\n",
       "2017-01-11  0.899110  0.528089 -1.219094 -1.797105"
      ]
     },
     "execution_count": 50,
     "metadata": {},
     "output_type": "execute_result"
    }
   ],
   "source": [
    "df['20170105':'20170111']"
   ]
  },
  {
   "cell_type": "markdown",
   "metadata": {},
   "source": [
    "you can also select by label, as follows:"
   ]
  },
  {
   "cell_type": "code",
   "execution_count": 52,
   "metadata": {},
   "outputs": [
    {
     "data": {
      "text/html": [
       "<div>\n",
       "<style>\n",
       "    .dataframe thead tr:only-child th {\n",
       "        text-align: right;\n",
       "    }\n",
       "\n",
       "    .dataframe thead th {\n",
       "        text-align: left;\n",
       "    }\n",
       "\n",
       "    .dataframe tbody tr th {\n",
       "        vertical-align: top;\n",
       "    }\n",
       "</style>\n",
       "<table border=\"1\" class=\"dataframe\">\n",
       "  <thead>\n",
       "    <tr style=\"text-align: right;\">\n",
       "      <th></th>\n",
       "      <th>B</th>\n",
       "      <th>D</th>\n",
       "    </tr>\n",
       "  </thead>\n",
       "  <tbody>\n",
       "    <tr>\n",
       "      <th>2017-01-01</th>\n",
       "      <td>-1.368871</td>\n",
       "      <td>-1.379729</td>\n",
       "    </tr>\n",
       "    <tr>\n",
       "      <th>2017-01-02</th>\n",
       "      <td>-0.927222</td>\n",
       "      <td>-0.408875</td>\n",
       "    </tr>\n",
       "    <tr>\n",
       "      <th>2017-01-03</th>\n",
       "      <td>-0.435983</td>\n",
       "      <td>1.379792</td>\n",
       "    </tr>\n",
       "    <tr>\n",
       "      <th>2017-01-04</th>\n",
       "      <td>0.108098</td>\n",
       "      <td>-2.726859</td>\n",
       "    </tr>\n",
       "    <tr>\n",
       "      <th>2017-01-05</th>\n",
       "      <td>-0.132024</td>\n",
       "      <td>0.506304</td>\n",
       "    </tr>\n",
       "    <tr>\n",
       "      <th>2017-01-06</th>\n",
       "      <td>0.954525</td>\n",
       "      <td>-0.616060</td>\n",
       "    </tr>\n",
       "    <tr>\n",
       "      <th>2017-01-07</th>\n",
       "      <td>-0.771366</td>\n",
       "      <td>0.522111</td>\n",
       "    </tr>\n",
       "    <tr>\n",
       "      <th>2017-01-08</th>\n",
       "      <td>-1.492221</td>\n",
       "      <td>0.098014</td>\n",
       "    </tr>\n",
       "    <tr>\n",
       "      <th>2017-01-09</th>\n",
       "      <td>-0.674177</td>\n",
       "      <td>1.257951</td>\n",
       "    </tr>\n",
       "    <tr>\n",
       "      <th>2017-01-10</th>\n",
       "      <td>-0.139874</td>\n",
       "      <td>1.474336</td>\n",
       "    </tr>\n",
       "    <tr>\n",
       "      <th>2017-01-11</th>\n",
       "      <td>0.528089</td>\n",
       "      <td>-1.797105</td>\n",
       "    </tr>\n",
       "    <tr>\n",
       "      <th>2017-01-12</th>\n",
       "      <td>1.331301</td>\n",
       "      <td>-1.553754</td>\n",
       "    </tr>\n",
       "  </tbody>\n",
       "</table>\n",
       "</div>"
      ],
      "text/plain": [
       "                   B         D\n",
       "2017-01-01 -1.368871 -1.379729\n",
       "2017-01-02 -0.927222 -0.408875\n",
       "2017-01-03 -0.435983  1.379792\n",
       "2017-01-04  0.108098 -2.726859\n",
       "2017-01-05 -0.132024  0.506304\n",
       "2017-01-06  0.954525 -0.616060\n",
       "2017-01-07 -0.771366  0.522111\n",
       "2017-01-08 -1.492221  0.098014\n",
       "2017-01-09 -0.674177  1.257951\n",
       "2017-01-10 -0.139874  1.474336\n",
       "2017-01-11  0.528089 -1.797105\n",
       "2017-01-12  1.331301 -1.553754"
      ]
     },
     "execution_count": 52,
     "metadata": {},
     "output_type": "execute_result"
    }
   ],
   "source": [
    "df.loc[:, ['B', 'D']]"
   ]
  },
  {
   "cell_type": "code",
   "execution_count": 53,
   "metadata": {},
   "outputs": [
    {
     "data": {
      "text/plain": [
       "A   -0.031585\n",
       "B   -0.927222\n",
       "C   -0.833803\n",
       "D   -0.408875\n",
       "Name: 2017-01-02 00:00:00, dtype: float64"
      ]
     },
     "execution_count": 53,
     "metadata": {},
     "output_type": "execute_result"
    }
   ],
   "source": [
    "df.loc[d[1]]"
   ]
  },
  {
   "cell_type": "code",
   "execution_count": 55,
   "metadata": {},
   "outputs": [
    {
     "data": {
      "text/plain": [
       "-0.90231573681351385"
      ]
     },
     "execution_count": 55,
     "metadata": {},
     "output_type": "execute_result"
    }
   ],
   "source": [
    "df.loc[d[5], 'A']"
   ]
  },
  {
   "cell_type": "markdown",
   "metadata": {},
   "source": [
    "to select by position, we need to use the iloc method"
   ]
  },
  {
   "cell_type": "code",
   "execution_count": 56,
   "metadata": {},
   "outputs": [
    {
     "data": {
      "text/plain": [
       "A   -0.715277\n",
       "B   -0.132024\n",
       "C   -1.182866\n",
       "D    0.506304\n",
       "Name: 2017-01-05 00:00:00, dtype: float64"
      ]
     },
     "execution_count": 56,
     "metadata": {},
     "output_type": "execute_result"
    }
   ],
   "source": [
    "df.iloc[4]"
   ]
  },
  {
   "cell_type": "markdown",
   "metadata": {},
   "source": [
    "the above code gives you the values in all the columns present in the 5th row (4th position of index)"
   ]
  },
  {
   "cell_type": "code",
   "execution_count": 58,
   "metadata": {},
   "outputs": [
    {
     "data": {
      "text/html": [
       "<div>\n",
       "<style>\n",
       "    .dataframe thead tr:only-child th {\n",
       "        text-align: right;\n",
       "    }\n",
       "\n",
       "    .dataframe thead th {\n",
       "        text-align: left;\n",
       "    }\n",
       "\n",
       "    .dataframe tbody tr th {\n",
       "        vertical-align: top;\n",
       "    }\n",
       "</style>\n",
       "<table border=\"1\" class=\"dataframe\">\n",
       "  <thead>\n",
       "    <tr style=\"text-align: right;\">\n",
       "      <th></th>\n",
       "      <th>C</th>\n",
       "    </tr>\n",
       "  </thead>\n",
       "  <tbody>\n",
       "    <tr>\n",
       "      <th>2017-01-04</th>\n",
       "      <td>0.311309</td>\n",
       "    </tr>\n",
       "    <tr>\n",
       "      <th>2017-01-05</th>\n",
       "      <td>-1.182866</td>\n",
       "    </tr>\n",
       "    <tr>\n",
       "      <th>2017-01-06</th>\n",
       "      <td>-1.602932</td>\n",
       "    </tr>\n",
       "  </tbody>\n",
       "</table>\n",
       "</div>"
      ],
      "text/plain": [
       "                   C\n",
       "2017-01-04  0.311309\n",
       "2017-01-05 -1.182866\n",
       "2017-01-06 -1.602932"
      ]
     },
     "execution_count": 58,
     "metadata": {},
     "output_type": "execute_result"
    }
   ],
   "source": [
    "df.iloc[3:6, 2:3]"
   ]
  },
  {
   "cell_type": "markdown",
   "metadata": {},
   "source": [
    "the above code gives you the values of the 3rd column (2nd position) from the 4th row to the 6th row (3rd position to the 5th position)"
   ]
  },
  {
   "cell_type": "code",
   "execution_count": 59,
   "metadata": {},
   "outputs": [
    {
     "data": {
      "text/html": [
       "<div>\n",
       "<style>\n",
       "    .dataframe thead tr:only-child th {\n",
       "        text-align: right;\n",
       "    }\n",
       "\n",
       "    .dataframe thead th {\n",
       "        text-align: left;\n",
       "    }\n",
       "\n",
       "    .dataframe tbody tr th {\n",
       "        vertical-align: top;\n",
       "    }\n",
       "</style>\n",
       "<table border=\"1\" class=\"dataframe\">\n",
       "  <thead>\n",
       "    <tr style=\"text-align: right;\">\n",
       "      <th></th>\n",
       "      <th>A</th>\n",
       "      <th>C</th>\n",
       "    </tr>\n",
       "  </thead>\n",
       "  <tbody>\n",
       "    <tr>\n",
       "      <th>2017-01-02</th>\n",
       "      <td>-0.031585</td>\n",
       "      <td>-0.833803</td>\n",
       "    </tr>\n",
       "    <tr>\n",
       "      <th>2017-01-03</th>\n",
       "      <td>0.486853</td>\n",
       "      <td>-0.013856</td>\n",
       "    </tr>\n",
       "    <tr>\n",
       "      <th>2017-01-05</th>\n",
       "      <td>-0.715277</td>\n",
       "      <td>-1.182866</td>\n",
       "    </tr>\n",
       "  </tbody>\n",
       "</table>\n",
       "</div>"
      ],
      "text/plain": [
       "                   A         C\n",
       "2017-01-02 -0.031585 -0.833803\n",
       "2017-01-03  0.486853 -0.013856\n",
       "2017-01-05 -0.715277 -1.182866"
      ]
     },
     "execution_count": 59,
     "metadata": {},
     "output_type": "execute_result"
    }
   ],
   "source": [
    "df.iloc[[1,2,4],[0,2]]"
   ]
  },
  {
   "cell_type": "markdown",
   "metadata": {},
   "source": [
    "the above code gives you the values from rows at position 1, 2, and 4 for the columns at position 0 and 2"
   ]
  },
  {
   "cell_type": "markdown",
   "metadata": {},
   "source": [
    "there is also a method known as boolean indexing which is basically where you enter a condition according to which you will get your data. in the below code, you are asking for the data when the values of B are greater than 0. "
   ]
  },
  {
   "cell_type": "code",
   "execution_count": 60,
   "metadata": {},
   "outputs": [
    {
     "data": {
      "text/html": [
       "<div>\n",
       "<style>\n",
       "    .dataframe thead tr:only-child th {\n",
       "        text-align: right;\n",
       "    }\n",
       "\n",
       "    .dataframe thead th {\n",
       "        text-align: left;\n",
       "    }\n",
       "\n",
       "    .dataframe tbody tr th {\n",
       "        vertical-align: top;\n",
       "    }\n",
       "</style>\n",
       "<table border=\"1\" class=\"dataframe\">\n",
       "  <thead>\n",
       "    <tr style=\"text-align: right;\">\n",
       "      <th></th>\n",
       "      <th>A</th>\n",
       "      <th>B</th>\n",
       "      <th>C</th>\n",
       "      <th>D</th>\n",
       "    </tr>\n",
       "  </thead>\n",
       "  <tbody>\n",
       "    <tr>\n",
       "      <th>2017-01-04</th>\n",
       "      <td>-0.613660</td>\n",
       "      <td>0.108098</td>\n",
       "      <td>0.311309</td>\n",
       "      <td>-2.726859</td>\n",
       "    </tr>\n",
       "    <tr>\n",
       "      <th>2017-01-06</th>\n",
       "      <td>-0.902316</td>\n",
       "      <td>0.954525</td>\n",
       "      <td>-1.602932</td>\n",
       "      <td>-0.616060</td>\n",
       "    </tr>\n",
       "    <tr>\n",
       "      <th>2017-01-11</th>\n",
       "      <td>0.899110</td>\n",
       "      <td>0.528089</td>\n",
       "      <td>-1.219094</td>\n",
       "      <td>-1.797105</td>\n",
       "    </tr>\n",
       "    <tr>\n",
       "      <th>2017-01-12</th>\n",
       "      <td>-1.652831</td>\n",
       "      <td>1.331301</td>\n",
       "      <td>0.803023</td>\n",
       "      <td>-1.553754</td>\n",
       "    </tr>\n",
       "  </tbody>\n",
       "</table>\n",
       "</div>"
      ],
      "text/plain": [
       "                   A         B         C         D\n",
       "2017-01-04 -0.613660  0.108098  0.311309 -2.726859\n",
       "2017-01-06 -0.902316  0.954525 -1.602932 -0.616060\n",
       "2017-01-11  0.899110  0.528089 -1.219094 -1.797105\n",
       "2017-01-12 -1.652831  1.331301  0.803023 -1.553754"
      ]
     },
     "execution_count": 60,
     "metadata": {},
     "output_type": "execute_result"
    }
   ],
   "source": [
    "df[df.B > 0]"
   ]
  },
  {
   "cell_type": "markdown",
   "metadata": {},
   "source": [
    "now we are asking for the data of the entire dataframe, when all values are less than 0"
   ]
  },
  {
   "cell_type": "code",
   "execution_count": 62,
   "metadata": {},
   "outputs": [
    {
     "data": {
      "text/html": [
       "<div>\n",
       "<style>\n",
       "    .dataframe thead tr:only-child th {\n",
       "        text-align: right;\n",
       "    }\n",
       "\n",
       "    .dataframe thead th {\n",
       "        text-align: left;\n",
       "    }\n",
       "\n",
       "    .dataframe tbody tr th {\n",
       "        vertical-align: top;\n",
       "    }\n",
       "</style>\n",
       "<table border=\"1\" class=\"dataframe\">\n",
       "  <thead>\n",
       "    <tr style=\"text-align: right;\">\n",
       "      <th></th>\n",
       "      <th>A</th>\n",
       "      <th>B</th>\n",
       "      <th>C</th>\n",
       "      <th>D</th>\n",
       "    </tr>\n",
       "  </thead>\n",
       "  <tbody>\n",
       "    <tr>\n",
       "      <th>2017-01-01</th>\n",
       "      <td>NaN</td>\n",
       "      <td>-1.368871</td>\n",
       "      <td>-0.385248</td>\n",
       "      <td>-1.379729</td>\n",
       "    </tr>\n",
       "    <tr>\n",
       "      <th>2017-01-02</th>\n",
       "      <td>-0.031585</td>\n",
       "      <td>-0.927222</td>\n",
       "      <td>-0.833803</td>\n",
       "      <td>-0.408875</td>\n",
       "    </tr>\n",
       "    <tr>\n",
       "      <th>2017-01-03</th>\n",
       "      <td>NaN</td>\n",
       "      <td>-0.435983</td>\n",
       "      <td>-0.013856</td>\n",
       "      <td>NaN</td>\n",
       "    </tr>\n",
       "    <tr>\n",
       "      <th>2017-01-04</th>\n",
       "      <td>-0.613660</td>\n",
       "      <td>NaN</td>\n",
       "      <td>NaN</td>\n",
       "      <td>-2.726859</td>\n",
       "    </tr>\n",
       "    <tr>\n",
       "      <th>2017-01-05</th>\n",
       "      <td>-0.715277</td>\n",
       "      <td>-0.132024</td>\n",
       "      <td>-1.182866</td>\n",
       "      <td>NaN</td>\n",
       "    </tr>\n",
       "    <tr>\n",
       "      <th>2017-01-06</th>\n",
       "      <td>-0.902316</td>\n",
       "      <td>NaN</td>\n",
       "      <td>-1.602932</td>\n",
       "      <td>-0.616060</td>\n",
       "    </tr>\n",
       "    <tr>\n",
       "      <th>2017-01-07</th>\n",
       "      <td>-1.649558</td>\n",
       "      <td>-0.771366</td>\n",
       "      <td>NaN</td>\n",
       "      <td>NaN</td>\n",
       "    </tr>\n",
       "    <tr>\n",
       "      <th>2017-01-08</th>\n",
       "      <td>NaN</td>\n",
       "      <td>-1.492221</td>\n",
       "      <td>NaN</td>\n",
       "      <td>NaN</td>\n",
       "    </tr>\n",
       "    <tr>\n",
       "      <th>2017-01-09</th>\n",
       "      <td>NaN</td>\n",
       "      <td>-0.674177</td>\n",
       "      <td>-0.442565</td>\n",
       "      <td>NaN</td>\n",
       "    </tr>\n",
       "    <tr>\n",
       "      <th>2017-01-10</th>\n",
       "      <td>-0.572360</td>\n",
       "      <td>-0.139874</td>\n",
       "      <td>NaN</td>\n",
       "      <td>NaN</td>\n",
       "    </tr>\n",
       "    <tr>\n",
       "      <th>2017-01-11</th>\n",
       "      <td>NaN</td>\n",
       "      <td>NaN</td>\n",
       "      <td>-1.219094</td>\n",
       "      <td>-1.797105</td>\n",
       "    </tr>\n",
       "    <tr>\n",
       "      <th>2017-01-12</th>\n",
       "      <td>-1.652831</td>\n",
       "      <td>NaN</td>\n",
       "      <td>NaN</td>\n",
       "      <td>-1.553754</td>\n",
       "    </tr>\n",
       "  </tbody>\n",
       "</table>\n",
       "</div>"
      ],
      "text/plain": [
       "                   A         B         C         D\n",
       "2017-01-01       NaN -1.368871 -0.385248 -1.379729\n",
       "2017-01-02 -0.031585 -0.927222 -0.833803 -0.408875\n",
       "2017-01-03       NaN -0.435983 -0.013856       NaN\n",
       "2017-01-04 -0.613660       NaN       NaN -2.726859\n",
       "2017-01-05 -0.715277 -0.132024 -1.182866       NaN\n",
       "2017-01-06 -0.902316       NaN -1.602932 -0.616060\n",
       "2017-01-07 -1.649558 -0.771366       NaN       NaN\n",
       "2017-01-08       NaN -1.492221       NaN       NaN\n",
       "2017-01-09       NaN -0.674177 -0.442565       NaN\n",
       "2017-01-10 -0.572360 -0.139874       NaN       NaN\n",
       "2017-01-11       NaN       NaN -1.219094 -1.797105\n",
       "2017-01-12 -1.652831       NaN       NaN -1.553754"
      ]
     },
     "execution_count": 62,
     "metadata": {},
     "output_type": "execute_result"
    }
   ],
   "source": [
    "df[df < 0]"
   ]
  },
  {
   "cell_type": "markdown",
   "metadata": {},
   "source": [
    "now we are going to make a new table called df3, that will be a copy of df but will have a fifth column 'E'. then we will use the .isin() function to filter our data. "
   ]
  },
  {
   "cell_type": "code",
   "execution_count": 65,
   "metadata": {},
   "outputs": [
    {
     "data": {
      "text/html": [
       "<div>\n",
       "<style>\n",
       "    .dataframe thead tr:only-child th {\n",
       "        text-align: right;\n",
       "    }\n",
       "\n",
       "    .dataframe thead th {\n",
       "        text-align: left;\n",
       "    }\n",
       "\n",
       "    .dataframe tbody tr th {\n",
       "        vertical-align: top;\n",
       "    }\n",
       "</style>\n",
       "<table border=\"1\" class=\"dataframe\">\n",
       "  <thead>\n",
       "    <tr style=\"text-align: right;\">\n",
       "      <th></th>\n",
       "      <th>A</th>\n",
       "      <th>B</th>\n",
       "      <th>C</th>\n",
       "      <th>D</th>\n",
       "      <th>E</th>\n",
       "    </tr>\n",
       "  </thead>\n",
       "  <tbody>\n",
       "    <tr>\n",
       "      <th>2017-01-01</th>\n",
       "      <td>0.467144</td>\n",
       "      <td>-1.368871</td>\n",
       "      <td>-0.385248</td>\n",
       "      <td>-1.379729</td>\n",
       "      <td>q</td>\n",
       "    </tr>\n",
       "    <tr>\n",
       "      <th>2017-01-02</th>\n",
       "      <td>-0.031585</td>\n",
       "      <td>-0.927222</td>\n",
       "      <td>-0.833803</td>\n",
       "      <td>-0.408875</td>\n",
       "      <td>w</td>\n",
       "    </tr>\n",
       "    <tr>\n",
       "      <th>2017-01-03</th>\n",
       "      <td>0.486853</td>\n",
       "      <td>-0.435983</td>\n",
       "      <td>-0.013856</td>\n",
       "      <td>1.379792</td>\n",
       "      <td>e</td>\n",
       "    </tr>\n",
       "    <tr>\n",
       "      <th>2017-01-04</th>\n",
       "      <td>-0.613660</td>\n",
       "      <td>0.108098</td>\n",
       "      <td>0.311309</td>\n",
       "      <td>-2.726859</td>\n",
       "      <td>r</td>\n",
       "    </tr>\n",
       "    <tr>\n",
       "      <th>2017-01-05</th>\n",
       "      <td>-0.715277</td>\n",
       "      <td>-0.132024</td>\n",
       "      <td>-1.182866</td>\n",
       "      <td>0.506304</td>\n",
       "      <td>t</td>\n",
       "    </tr>\n",
       "    <tr>\n",
       "      <th>2017-01-06</th>\n",
       "      <td>-0.902316</td>\n",
       "      <td>0.954525</td>\n",
       "      <td>-1.602932</td>\n",
       "      <td>-0.616060</td>\n",
       "      <td>y</td>\n",
       "    </tr>\n",
       "    <tr>\n",
       "      <th>2017-01-07</th>\n",
       "      <td>-1.649558</td>\n",
       "      <td>-0.771366</td>\n",
       "      <td>0.526407</td>\n",
       "      <td>0.522111</td>\n",
       "      <td>g</td>\n",
       "    </tr>\n",
       "    <tr>\n",
       "      <th>2017-01-08</th>\n",
       "      <td>0.183001</td>\n",
       "      <td>-1.492221</td>\n",
       "      <td>0.151862</td>\n",
       "      <td>0.098014</td>\n",
       "      <td>j</td>\n",
       "    </tr>\n",
       "    <tr>\n",
       "      <th>2017-01-09</th>\n",
       "      <td>0.121631</td>\n",
       "      <td>-0.674177</td>\n",
       "      <td>-0.442565</td>\n",
       "      <td>1.257951</td>\n",
       "      <td>k</td>\n",
       "    </tr>\n",
       "    <tr>\n",
       "      <th>2017-01-10</th>\n",
       "      <td>-0.572360</td>\n",
       "      <td>-0.139874</td>\n",
       "      <td>0.480380</td>\n",
       "      <td>1.474336</td>\n",
       "      <td>l</td>\n",
       "    </tr>\n",
       "    <tr>\n",
       "      <th>2017-01-11</th>\n",
       "      <td>0.899110</td>\n",
       "      <td>0.528089</td>\n",
       "      <td>-1.219094</td>\n",
       "      <td>-1.797105</td>\n",
       "      <td>f</td>\n",
       "    </tr>\n",
       "    <tr>\n",
       "      <th>2017-01-12</th>\n",
       "      <td>-1.652831</td>\n",
       "      <td>1.331301</td>\n",
       "      <td>0.803023</td>\n",
       "      <td>-1.553754</td>\n",
       "      <td>s</td>\n",
       "    </tr>\n",
       "  </tbody>\n",
       "</table>\n",
       "</div>"
      ],
      "text/plain": [
       "                   A         B         C         D  E\n",
       "2017-01-01  0.467144 -1.368871 -0.385248 -1.379729  q\n",
       "2017-01-02 -0.031585 -0.927222 -0.833803 -0.408875  w\n",
       "2017-01-03  0.486853 -0.435983 -0.013856  1.379792  e\n",
       "2017-01-04 -0.613660  0.108098  0.311309 -2.726859  r\n",
       "2017-01-05 -0.715277 -0.132024 -1.182866  0.506304  t\n",
       "2017-01-06 -0.902316  0.954525 -1.602932 -0.616060  y\n",
       "2017-01-07 -1.649558 -0.771366  0.526407  0.522111  g\n",
       "2017-01-08  0.183001 -1.492221  0.151862  0.098014  j\n",
       "2017-01-09  0.121631 -0.674177 -0.442565  1.257951  k\n",
       "2017-01-10 -0.572360 -0.139874  0.480380  1.474336  l\n",
       "2017-01-11  0.899110  0.528089 -1.219094 -1.797105  f\n",
       "2017-01-12 -1.652831  1.331301  0.803023 -1.553754  s"
      ]
     },
     "execution_count": 65,
     "metadata": {},
     "output_type": "execute_result"
    }
   ],
   "source": [
    "df3 = df.copy()\n",
    "df3 ['E'] = ['q', 'w', 'e', 'r', 't', 'y', 'g', 'j', 'k', 'l', 'f', 's']\n",
    "df3"
   ]
  },
  {
   "cell_type": "code",
   "execution_count": 66,
   "metadata": {},
   "outputs": [
    {
     "data": {
      "text/html": [
       "<div>\n",
       "<style>\n",
       "    .dataframe thead tr:only-child th {\n",
       "        text-align: right;\n",
       "    }\n",
       "\n",
       "    .dataframe thead th {\n",
       "        text-align: left;\n",
       "    }\n",
       "\n",
       "    .dataframe tbody tr th {\n",
       "        vertical-align: top;\n",
       "    }\n",
       "</style>\n",
       "<table border=\"1\" class=\"dataframe\">\n",
       "  <thead>\n",
       "    <tr style=\"text-align: right;\">\n",
       "      <th></th>\n",
       "      <th>A</th>\n",
       "      <th>B</th>\n",
       "      <th>C</th>\n",
       "      <th>D</th>\n",
       "      <th>E</th>\n",
       "    </tr>\n",
       "  </thead>\n",
       "  <tbody>\n",
       "    <tr>\n",
       "      <th>2017-01-05</th>\n",
       "      <td>-0.715277</td>\n",
       "      <td>-0.132024</td>\n",
       "      <td>-1.182866</td>\n",
       "      <td>0.506304</td>\n",
       "      <td>t</td>\n",
       "    </tr>\n",
       "    <tr>\n",
       "      <th>2017-01-11</th>\n",
       "      <td>0.899110</td>\n",
       "      <td>0.528089</td>\n",
       "      <td>-1.219094</td>\n",
       "      <td>-1.797105</td>\n",
       "      <td>f</td>\n",
       "    </tr>\n",
       "  </tbody>\n",
       "</table>\n",
       "</div>"
      ],
      "text/plain": [
       "                   A         B         C         D  E\n",
       "2017-01-05 -0.715277 -0.132024 -1.182866  0.506304  t\n",
       "2017-01-11  0.899110  0.528089 -1.219094 -1.797105  f"
      ]
     },
     "execution_count": 66,
     "metadata": {},
     "output_type": "execute_result"
    }
   ],
   "source": [
    "df3[df3['E'].isin(['t','f'])]"
   ]
  },
  {
   "cell_type": "markdown",
   "metadata": {},
   "source": [
    "we can also set a new column to a series, ensuring that data is sorted by the index"
   ]
  },
  {
   "cell_type": "code",
   "execution_count": 73,
   "metadata": {},
   "outputs": [
    {
     "data": {
      "text/plain": [
       "2017-01-01     3\n",
       "2017-01-02     4\n",
       "2017-01-03     5\n",
       "2017-01-04     6\n",
       "2017-01-05     7\n",
       "2017-01-06     8\n",
       "2017-01-07     9\n",
       "2017-01-08    10\n",
       "2017-01-09    11\n",
       "2017-01-10    12\n",
       "2017-01-11    13\n",
       "2017-01-12    14\n",
       "Freq: D, dtype: int64"
      ]
     },
     "execution_count": 73,
     "metadata": {},
     "output_type": "execute_result"
    }
   ],
   "source": [
    "s1 = pd.Series([3,4,5,6,7,8,9,10,11,12,13,14], index = pd.date_range('20170101', periods = 12))\n",
    "s1"
   ]
  },
  {
   "cell_type": "code",
   "execution_count": 74,
   "metadata": {
    "collapsed": true
   },
   "outputs": [],
   "source": [
    "df3['F'] = s1"
   ]
  },
  {
   "cell_type": "markdown",
   "metadata": {},
   "source": [
    "now we can set our data using labels, positions, and numpy arrays"
   ]
  },
  {
   "cell_type": "code",
   "execution_count": 81,
   "metadata": {},
   "outputs": [
    {
     "data": {
      "text/html": [
       "<div>\n",
       "<style>\n",
       "    .dataframe thead tr:only-child th {\n",
       "        text-align: right;\n",
       "    }\n",
       "\n",
       "    .dataframe thead th {\n",
       "        text-align: left;\n",
       "    }\n",
       "\n",
       "    .dataframe tbody tr th {\n",
       "        vertical-align: top;\n",
       "    }\n",
       "</style>\n",
       "<table border=\"1\" class=\"dataframe\">\n",
       "  <thead>\n",
       "    <tr style=\"text-align: right;\">\n",
       "      <th></th>\n",
       "      <th>A</th>\n",
       "      <th>B</th>\n",
       "      <th>C</th>\n",
       "      <th>D</th>\n",
       "      <th>E</th>\n",
       "      <th>F</th>\n",
       "    </tr>\n",
       "  </thead>\n",
       "  <tbody>\n",
       "    <tr>\n",
       "      <th>2017-01-01</th>\n",
       "      <td>0.467144</td>\n",
       "      <td>-1.368871</td>\n",
       "      <td>-0.385248</td>\n",
       "      <td>-1.379729</td>\n",
       "      <td>q</td>\n",
       "      <td>3</td>\n",
       "    </tr>\n",
       "    <tr>\n",
       "      <th>2017-01-02</th>\n",
       "      <td>-0.031585</td>\n",
       "      <td>-0.927222</td>\n",
       "      <td>-0.833803</td>\n",
       "      <td>-0.408875</td>\n",
       "      <td>w</td>\n",
       "      <td>4</td>\n",
       "    </tr>\n",
       "    <tr>\n",
       "      <th>2017-01-03</th>\n",
       "      <td>0.486853</td>\n",
       "      <td>-0.435983</td>\n",
       "      <td>-0.013856</td>\n",
       "      <td>1.379792</td>\n",
       "      <td>e</td>\n",
       "      <td>5</td>\n",
       "    </tr>\n",
       "    <tr>\n",
       "      <th>2017-01-04</th>\n",
       "      <td>0.000000</td>\n",
       "      <td>0.108098</td>\n",
       "      <td>0.311309</td>\n",
       "      <td>-2.726859</td>\n",
       "      <td>r</td>\n",
       "      <td>6</td>\n",
       "    </tr>\n",
       "    <tr>\n",
       "      <th>2017-01-05</th>\n",
       "      <td>-0.715277</td>\n",
       "      <td>-0.132024</td>\n",
       "      <td>-1.182866</td>\n",
       "      <td>0.506304</td>\n",
       "      <td>t</td>\n",
       "      <td>7</td>\n",
       "    </tr>\n",
       "    <tr>\n",
       "      <th>2017-01-06</th>\n",
       "      <td>-0.902316</td>\n",
       "      <td>0.954525</td>\n",
       "      <td>-1.602932</td>\n",
       "      <td>-0.616060</td>\n",
       "      <td>y</td>\n",
       "      <td>8</td>\n",
       "    </tr>\n",
       "    <tr>\n",
       "      <th>2017-01-07</th>\n",
       "      <td>-1.649558</td>\n",
       "      <td>-0.771366</td>\n",
       "      <td>0.526407</td>\n",
       "      <td>0.522111</td>\n",
       "      <td>g</td>\n",
       "      <td>9</td>\n",
       "    </tr>\n",
       "    <tr>\n",
       "      <th>2017-01-08</th>\n",
       "      <td>0.183001</td>\n",
       "      <td>-1.492221</td>\n",
       "      <td>0.151862</td>\n",
       "      <td>0.098014</td>\n",
       "      <td>j</td>\n",
       "      <td>10</td>\n",
       "    </tr>\n",
       "    <tr>\n",
       "      <th>2017-01-09</th>\n",
       "      <td>0.121631</td>\n",
       "      <td>-0.674177</td>\n",
       "      <td>-0.442565</td>\n",
       "      <td>1.257951</td>\n",
       "      <td>k</td>\n",
       "      <td>11</td>\n",
       "    </tr>\n",
       "    <tr>\n",
       "      <th>2017-01-10</th>\n",
       "      <td>-0.572360</td>\n",
       "      <td>-0.139874</td>\n",
       "      <td>0.480380</td>\n",
       "      <td>1.474336</td>\n",
       "      <td>l</td>\n",
       "      <td>12</td>\n",
       "    </tr>\n",
       "    <tr>\n",
       "      <th>2017-01-11</th>\n",
       "      <td>0.899110</td>\n",
       "      <td>0.528089</td>\n",
       "      <td>-1.219094</td>\n",
       "      <td>-1.797105</td>\n",
       "      <td>f</td>\n",
       "      <td>13</td>\n",
       "    </tr>\n",
       "    <tr>\n",
       "      <th>2017-01-12</th>\n",
       "      <td>-1.652831</td>\n",
       "      <td>1.331301</td>\n",
       "      <td>0.803023</td>\n",
       "      <td>-1.553754</td>\n",
       "      <td>s</td>\n",
       "      <td>14</td>\n",
       "    </tr>\n",
       "  </tbody>\n",
       "</table>\n",
       "</div>"
      ],
      "text/plain": [
       "                   A         B         C         D  E   F\n",
       "2017-01-01  0.467144 -1.368871 -0.385248 -1.379729  q   3\n",
       "2017-01-02 -0.031585 -0.927222 -0.833803 -0.408875  w   4\n",
       "2017-01-03  0.486853 -0.435983 -0.013856  1.379792  e   5\n",
       "2017-01-04  0.000000  0.108098  0.311309 -2.726859  r   6\n",
       "2017-01-05 -0.715277 -0.132024 -1.182866  0.506304  t   7\n",
       "2017-01-06 -0.902316  0.954525 -1.602932 -0.616060  y   8\n",
       "2017-01-07 -1.649558 -0.771366  0.526407  0.522111  g   9\n",
       "2017-01-08  0.183001 -1.492221  0.151862  0.098014  j  10\n",
       "2017-01-09  0.121631 -0.674177 -0.442565  1.257951  k  11\n",
       "2017-01-10 -0.572360 -0.139874  0.480380  1.474336  l  12\n",
       "2017-01-11  0.899110  0.528089 -1.219094 -1.797105  f  13\n",
       "2017-01-12 -1.652831  1.331301  0.803023 -1.553754  s  14"
      ]
     },
     "execution_count": 81,
     "metadata": {},
     "output_type": "execute_result"
    }
   ],
   "source": [
    "df3.at[d[3],'A'] = 0\n",
    "df3"
   ]
  },
  {
   "cell_type": "code",
   "execution_count": 82,
   "metadata": {},
   "outputs": [
    {
     "data": {
      "text/html": [
       "<div>\n",
       "<style>\n",
       "    .dataframe thead tr:only-child th {\n",
       "        text-align: right;\n",
       "    }\n",
       "\n",
       "    .dataframe thead th {\n",
       "        text-align: left;\n",
       "    }\n",
       "\n",
       "    .dataframe tbody tr th {\n",
       "        vertical-align: top;\n",
       "    }\n",
       "</style>\n",
       "<table border=\"1\" class=\"dataframe\">\n",
       "  <thead>\n",
       "    <tr style=\"text-align: right;\">\n",
       "      <th></th>\n",
       "      <th>A</th>\n",
       "      <th>B</th>\n",
       "      <th>C</th>\n",
       "      <th>D</th>\n",
       "      <th>E</th>\n",
       "      <th>F</th>\n",
       "    </tr>\n",
       "  </thead>\n",
       "  <tbody>\n",
       "    <tr>\n",
       "      <th>2017-01-01</th>\n",
       "      <td>0.467144</td>\n",
       "      <td>-1.368871</td>\n",
       "      <td>-0.385248</td>\n",
       "      <td>-1.379729</td>\n",
       "      <td>q</td>\n",
       "      <td>3</td>\n",
       "    </tr>\n",
       "    <tr>\n",
       "      <th>2017-01-02</th>\n",
       "      <td>-0.031585</td>\n",
       "      <td>-0.927222</td>\n",
       "      <td>-0.833803</td>\n",
       "      <td>-0.408875</td>\n",
       "      <td>w</td>\n",
       "      <td>4</td>\n",
       "    </tr>\n",
       "    <tr>\n",
       "      <th>2017-01-03</th>\n",
       "      <td>0.486853</td>\n",
       "      <td>-0.435983</td>\n",
       "      <td>-0.013856</td>\n",
       "      <td>0.000000</td>\n",
       "      <td>e</td>\n",
       "      <td>5</td>\n",
       "    </tr>\n",
       "    <tr>\n",
       "      <th>2017-01-04</th>\n",
       "      <td>0.000000</td>\n",
       "      <td>0.108098</td>\n",
       "      <td>0.311309</td>\n",
       "      <td>-2.726859</td>\n",
       "      <td>r</td>\n",
       "      <td>6</td>\n",
       "    </tr>\n",
       "    <tr>\n",
       "      <th>2017-01-05</th>\n",
       "      <td>-0.715277</td>\n",
       "      <td>-0.132024</td>\n",
       "      <td>-1.182866</td>\n",
       "      <td>0.506304</td>\n",
       "      <td>t</td>\n",
       "      <td>7</td>\n",
       "    </tr>\n",
       "    <tr>\n",
       "      <th>2017-01-06</th>\n",
       "      <td>-0.902316</td>\n",
       "      <td>0.954525</td>\n",
       "      <td>-1.602932</td>\n",
       "      <td>-0.616060</td>\n",
       "      <td>y</td>\n",
       "      <td>8</td>\n",
       "    </tr>\n",
       "    <tr>\n",
       "      <th>2017-01-07</th>\n",
       "      <td>-1.649558</td>\n",
       "      <td>-0.771366</td>\n",
       "      <td>0.526407</td>\n",
       "      <td>0.522111</td>\n",
       "      <td>g</td>\n",
       "      <td>9</td>\n",
       "    </tr>\n",
       "    <tr>\n",
       "      <th>2017-01-08</th>\n",
       "      <td>0.183001</td>\n",
       "      <td>-1.492221</td>\n",
       "      <td>0.151862</td>\n",
       "      <td>0.098014</td>\n",
       "      <td>j</td>\n",
       "      <td>10</td>\n",
       "    </tr>\n",
       "    <tr>\n",
       "      <th>2017-01-09</th>\n",
       "      <td>0.121631</td>\n",
       "      <td>-0.674177</td>\n",
       "      <td>-0.442565</td>\n",
       "      <td>1.257951</td>\n",
       "      <td>k</td>\n",
       "      <td>11</td>\n",
       "    </tr>\n",
       "    <tr>\n",
       "      <th>2017-01-10</th>\n",
       "      <td>-0.572360</td>\n",
       "      <td>-0.139874</td>\n",
       "      <td>0.480380</td>\n",
       "      <td>1.474336</td>\n",
       "      <td>l</td>\n",
       "      <td>12</td>\n",
       "    </tr>\n",
       "    <tr>\n",
       "      <th>2017-01-11</th>\n",
       "      <td>0.899110</td>\n",
       "      <td>0.528089</td>\n",
       "      <td>-1.219094</td>\n",
       "      <td>-1.797105</td>\n",
       "      <td>f</td>\n",
       "      <td>13</td>\n",
       "    </tr>\n",
       "    <tr>\n",
       "      <th>2017-01-12</th>\n",
       "      <td>-1.652831</td>\n",
       "      <td>1.331301</td>\n",
       "      <td>0.803023</td>\n",
       "      <td>-1.553754</td>\n",
       "      <td>s</td>\n",
       "      <td>14</td>\n",
       "    </tr>\n",
       "  </tbody>\n",
       "</table>\n",
       "</div>"
      ],
      "text/plain": [
       "                   A         B         C         D  E   F\n",
       "2017-01-01  0.467144 -1.368871 -0.385248 -1.379729  q   3\n",
       "2017-01-02 -0.031585 -0.927222 -0.833803 -0.408875  w   4\n",
       "2017-01-03  0.486853 -0.435983 -0.013856  0.000000  e   5\n",
       "2017-01-04  0.000000  0.108098  0.311309 -2.726859  r   6\n",
       "2017-01-05 -0.715277 -0.132024 -1.182866  0.506304  t   7\n",
       "2017-01-06 -0.902316  0.954525 -1.602932 -0.616060  y   8\n",
       "2017-01-07 -1.649558 -0.771366  0.526407  0.522111  g   9\n",
       "2017-01-08  0.183001 -1.492221  0.151862  0.098014  j  10\n",
       "2017-01-09  0.121631 -0.674177 -0.442565  1.257951  k  11\n",
       "2017-01-10 -0.572360 -0.139874  0.480380  1.474336  l  12\n",
       "2017-01-11  0.899110  0.528089 -1.219094 -1.797105  f  13\n",
       "2017-01-12 -1.652831  1.331301  0.803023 -1.553754  s  14"
      ]
     },
     "execution_count": 82,
     "metadata": {},
     "output_type": "execute_result"
    }
   ],
   "source": [
    "df3.iat[2, 3] = 0\n",
    "df3"
   ]
  },
  {
   "cell_type": "code",
   "execution_count": 84,
   "metadata": {},
   "outputs": [
    {
     "data": {
      "text/html": [
       "<div>\n",
       "<style>\n",
       "    .dataframe thead tr:only-child th {\n",
       "        text-align: right;\n",
       "    }\n",
       "\n",
       "    .dataframe thead th {\n",
       "        text-align: left;\n",
       "    }\n",
       "\n",
       "    .dataframe tbody tr th {\n",
       "        vertical-align: top;\n",
       "    }\n",
       "</style>\n",
       "<table border=\"1\" class=\"dataframe\">\n",
       "  <thead>\n",
       "    <tr style=\"text-align: right;\">\n",
       "      <th></th>\n",
       "      <th>A</th>\n",
       "      <th>B</th>\n",
       "      <th>C</th>\n",
       "      <th>D</th>\n",
       "      <th>E</th>\n",
       "      <th>F</th>\n",
       "    </tr>\n",
       "  </thead>\n",
       "  <tbody>\n",
       "    <tr>\n",
       "      <th>2017-01-01</th>\n",
       "      <td>0.467144</td>\n",
       "      <td>-1.368871</td>\n",
       "      <td>2</td>\n",
       "      <td>-1.379729</td>\n",
       "      <td>q</td>\n",
       "      <td>3</td>\n",
       "    </tr>\n",
       "    <tr>\n",
       "      <th>2017-01-02</th>\n",
       "      <td>-0.031585</td>\n",
       "      <td>-0.927222</td>\n",
       "      <td>2</td>\n",
       "      <td>-0.408875</td>\n",
       "      <td>w</td>\n",
       "      <td>4</td>\n",
       "    </tr>\n",
       "    <tr>\n",
       "      <th>2017-01-03</th>\n",
       "      <td>0.486853</td>\n",
       "      <td>-0.435983</td>\n",
       "      <td>2</td>\n",
       "      <td>0.000000</td>\n",
       "      <td>e</td>\n",
       "      <td>5</td>\n",
       "    </tr>\n",
       "    <tr>\n",
       "      <th>2017-01-04</th>\n",
       "      <td>0.000000</td>\n",
       "      <td>0.108098</td>\n",
       "      <td>2</td>\n",
       "      <td>-2.726859</td>\n",
       "      <td>r</td>\n",
       "      <td>6</td>\n",
       "    </tr>\n",
       "    <tr>\n",
       "      <th>2017-01-05</th>\n",
       "      <td>-0.715277</td>\n",
       "      <td>-0.132024</td>\n",
       "      <td>2</td>\n",
       "      <td>0.506304</td>\n",
       "      <td>t</td>\n",
       "      <td>7</td>\n",
       "    </tr>\n",
       "    <tr>\n",
       "      <th>2017-01-06</th>\n",
       "      <td>-0.902316</td>\n",
       "      <td>0.954525</td>\n",
       "      <td>2</td>\n",
       "      <td>-0.616060</td>\n",
       "      <td>y</td>\n",
       "      <td>8</td>\n",
       "    </tr>\n",
       "    <tr>\n",
       "      <th>2017-01-07</th>\n",
       "      <td>-1.649558</td>\n",
       "      <td>-0.771366</td>\n",
       "      <td>2</td>\n",
       "      <td>0.522111</td>\n",
       "      <td>g</td>\n",
       "      <td>9</td>\n",
       "    </tr>\n",
       "    <tr>\n",
       "      <th>2017-01-08</th>\n",
       "      <td>0.183001</td>\n",
       "      <td>-1.492221</td>\n",
       "      <td>2</td>\n",
       "      <td>0.098014</td>\n",
       "      <td>j</td>\n",
       "      <td>10</td>\n",
       "    </tr>\n",
       "    <tr>\n",
       "      <th>2017-01-09</th>\n",
       "      <td>0.121631</td>\n",
       "      <td>-0.674177</td>\n",
       "      <td>2</td>\n",
       "      <td>1.257951</td>\n",
       "      <td>k</td>\n",
       "      <td>11</td>\n",
       "    </tr>\n",
       "    <tr>\n",
       "      <th>2017-01-10</th>\n",
       "      <td>-0.572360</td>\n",
       "      <td>-0.139874</td>\n",
       "      <td>2</td>\n",
       "      <td>1.474336</td>\n",
       "      <td>l</td>\n",
       "      <td>12</td>\n",
       "    </tr>\n",
       "    <tr>\n",
       "      <th>2017-01-11</th>\n",
       "      <td>0.899110</td>\n",
       "      <td>0.528089</td>\n",
       "      <td>2</td>\n",
       "      <td>-1.797105</td>\n",
       "      <td>f</td>\n",
       "      <td>13</td>\n",
       "    </tr>\n",
       "    <tr>\n",
       "      <th>2017-01-12</th>\n",
       "      <td>-1.652831</td>\n",
       "      <td>1.331301</td>\n",
       "      <td>2</td>\n",
       "      <td>-1.553754</td>\n",
       "      <td>s</td>\n",
       "      <td>14</td>\n",
       "    </tr>\n",
       "  </tbody>\n",
       "</table>\n",
       "</div>"
      ],
      "text/plain": [
       "                   A         B  C         D  E   F\n",
       "2017-01-01  0.467144 -1.368871  2 -1.379729  q   3\n",
       "2017-01-02 -0.031585 -0.927222  2 -0.408875  w   4\n",
       "2017-01-03  0.486853 -0.435983  2  0.000000  e   5\n",
       "2017-01-04  0.000000  0.108098  2 -2.726859  r   6\n",
       "2017-01-05 -0.715277 -0.132024  2  0.506304  t   7\n",
       "2017-01-06 -0.902316  0.954525  2 -0.616060  y   8\n",
       "2017-01-07 -1.649558 -0.771366  2  0.522111  g   9\n",
       "2017-01-08  0.183001 -1.492221  2  0.098014  j  10\n",
       "2017-01-09  0.121631 -0.674177  2  1.257951  k  11\n",
       "2017-01-10 -0.572360 -0.139874  2  1.474336  l  12\n",
       "2017-01-11  0.899110  0.528089  2 -1.797105  f  13\n",
       "2017-01-12 -1.652831  1.331301  2 -1.553754  s  14"
      ]
     },
     "execution_count": 84,
     "metadata": {},
     "output_type": "execute_result"
    }
   ],
   "source": [
    "df3.loc[:,'C'] = np.array([2] * len(df3))\n",
    "df3"
   ]
  },
  {
   "cell_type": "markdown",
   "metadata": {},
   "source": [
    "### missing data"
   ]
  },
  {
   "cell_type": "markdown",
   "metadata": {},
   "source": [
    "pandas indicates missing data with the value np.nan. \n",
    "although you can add new types to an index, or add new fields to a type, you can’t make changes to existing fields. because then the data that has already been indexed will be incorrect and your searches will not work as.an easy way to apply these changes is to reindex: create a new index with the new settings and copy all of your documents from the old index to the new index"
   ]
  },
  {
   "cell_type": "code",
   "execution_count": 87,
   "metadata": {},
   "outputs": [
    {
     "data": {
      "text/html": [
       "<div>\n",
       "<style>\n",
       "    .dataframe thead tr:only-child th {\n",
       "        text-align: right;\n",
       "    }\n",
       "\n",
       "    .dataframe thead th {\n",
       "        text-align: left;\n",
       "    }\n",
       "\n",
       "    .dataframe tbody tr th {\n",
       "        vertical-align: top;\n",
       "    }\n",
       "</style>\n",
       "<table border=\"1\" class=\"dataframe\">\n",
       "  <thead>\n",
       "    <tr style=\"text-align: right;\">\n",
       "      <th></th>\n",
       "      <th>A</th>\n",
       "      <th>B</th>\n",
       "      <th>C</th>\n",
       "      <th>D</th>\n",
       "      <th>E</th>\n",
       "    </tr>\n",
       "  </thead>\n",
       "  <tbody>\n",
       "    <tr>\n",
       "      <th>2017-01-01</th>\n",
       "      <td>0.467144</td>\n",
       "      <td>-1.368871</td>\n",
       "      <td>2</td>\n",
       "      <td>-1.379729</td>\n",
       "      <td>1</td>\n",
       "    </tr>\n",
       "    <tr>\n",
       "      <th>2017-01-02</th>\n",
       "      <td>-0.031585</td>\n",
       "      <td>-0.927222</td>\n",
       "      <td>2</td>\n",
       "      <td>-0.408875</td>\n",
       "      <td>1</td>\n",
       "    </tr>\n",
       "    <tr>\n",
       "      <th>2017-01-03</th>\n",
       "      <td>0.486853</td>\n",
       "      <td>-0.435983</td>\n",
       "      <td>2</td>\n",
       "      <td>0.000000</td>\n",
       "      <td>e</td>\n",
       "    </tr>\n",
       "    <tr>\n",
       "      <th>2017-01-04</th>\n",
       "      <td>0.000000</td>\n",
       "      <td>0.108098</td>\n",
       "      <td>2</td>\n",
       "      <td>-2.726859</td>\n",
       "      <td>r</td>\n",
       "    </tr>\n",
       "  </tbody>\n",
       "</table>\n",
       "</div>"
      ],
      "text/plain": [
       "                   A         B  C         D  E\n",
       "2017-01-01  0.467144 -1.368871  2 -1.379729  1\n",
       "2017-01-02 -0.031585 -0.927222  2 -0.408875  1\n",
       "2017-01-03  0.486853 -0.435983  2  0.000000  e\n",
       "2017-01-04  0.000000  0.108098  2 -2.726859  r"
      ]
     },
     "execution_count": 87,
     "metadata": {},
     "output_type": "execute_result"
    }
   ],
   "source": [
    "df4 = df3.reindex(index=d[0:4], columns=list(df.columns) + ['E'])\n",
    "df4.loc[d[0]:d[1],'E'] = 1\n",
    "df4"
   ]
  },
  {
   "cell_type": "markdown",
   "metadata": {},
   "source": [
    "if there are rows that have missing data, you can do the following to get rid of them"
   ]
  },
  {
   "cell_type": "code",
   "execution_count": 88,
   "metadata": {},
   "outputs": [
    {
     "data": {
      "text/html": [
       "<div>\n",
       "<style>\n",
       "    .dataframe thead tr:only-child th {\n",
       "        text-align: right;\n",
       "    }\n",
       "\n",
       "    .dataframe thead th {\n",
       "        text-align: left;\n",
       "    }\n",
       "\n",
       "    .dataframe tbody tr th {\n",
       "        vertical-align: top;\n",
       "    }\n",
       "</style>\n",
       "<table border=\"1\" class=\"dataframe\">\n",
       "  <thead>\n",
       "    <tr style=\"text-align: right;\">\n",
       "      <th></th>\n",
       "      <th>A</th>\n",
       "      <th>B</th>\n",
       "      <th>C</th>\n",
       "      <th>D</th>\n",
       "      <th>E</th>\n",
       "    </tr>\n",
       "  </thead>\n",
       "  <tbody>\n",
       "    <tr>\n",
       "      <th>2017-01-01</th>\n",
       "      <td>0.467144</td>\n",
       "      <td>-1.368871</td>\n",
       "      <td>2</td>\n",
       "      <td>-1.379729</td>\n",
       "      <td>1</td>\n",
       "    </tr>\n",
       "    <tr>\n",
       "      <th>2017-01-02</th>\n",
       "      <td>-0.031585</td>\n",
       "      <td>-0.927222</td>\n",
       "      <td>2</td>\n",
       "      <td>-0.408875</td>\n",
       "      <td>1</td>\n",
       "    </tr>\n",
       "    <tr>\n",
       "      <th>2017-01-03</th>\n",
       "      <td>0.486853</td>\n",
       "      <td>-0.435983</td>\n",
       "      <td>2</td>\n",
       "      <td>0.000000</td>\n",
       "      <td>e</td>\n",
       "    </tr>\n",
       "    <tr>\n",
       "      <th>2017-01-04</th>\n",
       "      <td>0.000000</td>\n",
       "      <td>0.108098</td>\n",
       "      <td>2</td>\n",
       "      <td>-2.726859</td>\n",
       "      <td>r</td>\n",
       "    </tr>\n",
       "  </tbody>\n",
       "</table>\n",
       "</div>"
      ],
      "text/plain": [
       "                   A         B  C         D  E\n",
       "2017-01-01  0.467144 -1.368871  2 -1.379729  1\n",
       "2017-01-02 -0.031585 -0.927222  2 -0.408875  1\n",
       "2017-01-03  0.486853 -0.435983  2  0.000000  e\n",
       "2017-01-04  0.000000  0.108098  2 -2.726859  r"
      ]
     },
     "execution_count": 88,
     "metadata": {},
     "output_type": "execute_result"
    }
   ],
   "source": [
    "df4.dropna(how = 'any')"
   ]
  },
  {
   "cell_type": "markdown",
   "metadata": {},
   "source": [
    "you can fill in missing data by "
   ]
  },
  {
   "cell_type": "code",
   "execution_count": 89,
   "metadata": {},
   "outputs": [
    {
     "data": {
      "text/html": [
       "<div>\n",
       "<style>\n",
       "    .dataframe thead tr:only-child th {\n",
       "        text-align: right;\n",
       "    }\n",
       "\n",
       "    .dataframe thead th {\n",
       "        text-align: left;\n",
       "    }\n",
       "\n",
       "    .dataframe tbody tr th {\n",
       "        vertical-align: top;\n",
       "    }\n",
       "</style>\n",
       "<table border=\"1\" class=\"dataframe\">\n",
       "  <thead>\n",
       "    <tr style=\"text-align: right;\">\n",
       "      <th></th>\n",
       "      <th>A</th>\n",
       "      <th>B</th>\n",
       "      <th>C</th>\n",
       "      <th>D</th>\n",
       "      <th>E</th>\n",
       "    </tr>\n",
       "  </thead>\n",
       "  <tbody>\n",
       "    <tr>\n",
       "      <th>2017-01-01</th>\n",
       "      <td>0.467144</td>\n",
       "      <td>-1.368871</td>\n",
       "      <td>2</td>\n",
       "      <td>-1.379729</td>\n",
       "      <td>1</td>\n",
       "    </tr>\n",
       "    <tr>\n",
       "      <th>2017-01-02</th>\n",
       "      <td>-0.031585</td>\n",
       "      <td>-0.927222</td>\n",
       "      <td>2</td>\n",
       "      <td>-0.408875</td>\n",
       "      <td>1</td>\n",
       "    </tr>\n",
       "    <tr>\n",
       "      <th>2017-01-03</th>\n",
       "      <td>0.486853</td>\n",
       "      <td>-0.435983</td>\n",
       "      <td>2</td>\n",
       "      <td>0.000000</td>\n",
       "      <td>e</td>\n",
       "    </tr>\n",
       "    <tr>\n",
       "      <th>2017-01-04</th>\n",
       "      <td>0.000000</td>\n",
       "      <td>0.108098</td>\n",
       "      <td>2</td>\n",
       "      <td>-2.726859</td>\n",
       "      <td>r</td>\n",
       "    </tr>\n",
       "  </tbody>\n",
       "</table>\n",
       "</div>"
      ],
      "text/plain": [
       "                   A         B  C         D  E\n",
       "2017-01-01  0.467144 -1.368871  2 -1.379729  1\n",
       "2017-01-02 -0.031585 -0.927222  2 -0.408875  1\n",
       "2017-01-03  0.486853 -0.435983  2  0.000000  e\n",
       "2017-01-04  0.000000  0.108098  2 -2.726859  r"
      ]
     },
     "execution_count": 89,
     "metadata": {},
     "output_type": "execute_result"
    }
   ],
   "source": [
    "df4.fillna(value = 6)"
   ]
  },
  {
   "cell_type": "markdown",
   "metadata": {},
   "source": [
    "and get the boolean values of where dat is present by "
   ]
  },
  {
   "cell_type": "markdown",
   "metadata": {},
   "source": [
    "### operations"
   ]
  },
  {
   "cell_type": "markdown",
   "metadata": {},
   "source": [
    "you can find the mean by "
   ]
  },
  {
   "cell_type": "code",
   "execution_count": 91,
   "metadata": {},
   "outputs": [
    {
     "data": {
      "text/plain": [
       "A   -0.280516\n",
       "B   -0.251644\n",
       "C   -0.283948\n",
       "D   -0.385306\n",
       "dtype: float64"
      ]
     },
     "execution_count": 91,
     "metadata": {},
     "output_type": "execute_result"
    }
   ],
   "source": [
    "df.mean()"
   ]
  },
  {
   "cell_type": "code",
   "execution_count": 92,
   "metadata": {},
   "outputs": [
    {
     "data": {
      "text/plain": [
       "2017-01-01   -0.666676\n",
       "2017-01-02   -0.550371\n",
       "2017-01-03    0.009253\n",
       "2017-01-04   -0.576863\n",
       "2017-01-05   -0.380965\n",
       "2017-01-06   -0.541696\n",
       "2017-01-07   -0.343102\n",
       "2017-01-08   -0.264836\n",
       "2017-01-09    0.065710\n",
       "2017-01-10    0.310620\n",
       "2017-01-11   -0.397250\n",
       "2017-01-12   -0.268065\n",
       "Freq: D, dtype: float64"
      ]
     },
     "execution_count": 92,
     "metadata": {},
     "output_type": "execute_result"
    }
   ],
   "source": [
    "df.mean(1)"
   ]
  },
  {
   "cell_type": "markdown",
   "metadata": {},
   "source": [
    "np.cumsum is a method to find the cumulative sum of values"
   ]
  },
  {
   "cell_type": "code",
   "execution_count": 93,
   "metadata": {},
   "outputs": [
    {
     "data": {
      "text/html": [
       "<div>\n",
       "<style>\n",
       "    .dataframe thead tr:only-child th {\n",
       "        text-align: right;\n",
       "    }\n",
       "\n",
       "    .dataframe thead th {\n",
       "        text-align: left;\n",
       "    }\n",
       "\n",
       "    .dataframe tbody tr th {\n",
       "        vertical-align: top;\n",
       "    }\n",
       "</style>\n",
       "<table border=\"1\" class=\"dataframe\">\n",
       "  <thead>\n",
       "    <tr style=\"text-align: right;\">\n",
       "      <th></th>\n",
       "      <th>A</th>\n",
       "      <th>B</th>\n",
       "      <th>C</th>\n",
       "      <th>D</th>\n",
       "    </tr>\n",
       "  </thead>\n",
       "  <tbody>\n",
       "    <tr>\n",
       "      <th>2017-01-01</th>\n",
       "      <td>0.467144</td>\n",
       "      <td>-1.368871</td>\n",
       "      <td>-0.385248</td>\n",
       "      <td>-1.379729</td>\n",
       "    </tr>\n",
       "    <tr>\n",
       "      <th>2017-01-02</th>\n",
       "      <td>0.435559</td>\n",
       "      <td>-2.296093</td>\n",
       "      <td>-1.219050</td>\n",
       "      <td>-1.788604</td>\n",
       "    </tr>\n",
       "    <tr>\n",
       "      <th>2017-01-03</th>\n",
       "      <td>0.922411</td>\n",
       "      <td>-2.732076</td>\n",
       "      <td>-1.232907</td>\n",
       "      <td>-1.788604</td>\n",
       "    </tr>\n",
       "    <tr>\n",
       "      <th>2017-01-04</th>\n",
       "      <td>0.922411</td>\n",
       "      <td>-2.623977</td>\n",
       "      <td>-0.921597</td>\n",
       "      <td>-4.515464</td>\n",
       "    </tr>\n",
       "    <tr>\n",
       "      <th>2017-01-05</th>\n",
       "      <td>0.207134</td>\n",
       "      <td>-2.756001</td>\n",
       "      <td>-2.104463</td>\n",
       "      <td>-4.009159</td>\n",
       "    </tr>\n",
       "    <tr>\n",
       "      <th>2017-01-06</th>\n",
       "      <td>-0.695181</td>\n",
       "      <td>-1.801476</td>\n",
       "      <td>-3.707394</td>\n",
       "      <td>-4.625220</td>\n",
       "    </tr>\n",
       "    <tr>\n",
       "      <th>2017-01-07</th>\n",
       "      <td>-2.344740</td>\n",
       "      <td>-2.572842</td>\n",
       "      <td>-3.180987</td>\n",
       "      <td>-4.103109</td>\n",
       "    </tr>\n",
       "    <tr>\n",
       "      <th>2017-01-08</th>\n",
       "      <td>-2.161739</td>\n",
       "      <td>-4.065062</td>\n",
       "      <td>-3.029126</td>\n",
       "      <td>-4.005095</td>\n",
       "    </tr>\n",
       "    <tr>\n",
       "      <th>2017-01-09</th>\n",
       "      <td>-2.040108</td>\n",
       "      <td>-4.739239</td>\n",
       "      <td>-3.471690</td>\n",
       "      <td>-2.747144</td>\n",
       "    </tr>\n",
       "    <tr>\n",
       "      <th>2017-01-10</th>\n",
       "      <td>-2.612468</td>\n",
       "      <td>-4.879113</td>\n",
       "      <td>-2.991311</td>\n",
       "      <td>-1.272808</td>\n",
       "    </tr>\n",
       "    <tr>\n",
       "      <th>2017-01-11</th>\n",
       "      <td>-1.713359</td>\n",
       "      <td>-4.351024</td>\n",
       "      <td>-4.210405</td>\n",
       "      <td>-3.069913</td>\n",
       "    </tr>\n",
       "    <tr>\n",
       "      <th>2017-01-12</th>\n",
       "      <td>-3.366190</td>\n",
       "      <td>-3.019723</td>\n",
       "      <td>-3.407382</td>\n",
       "      <td>-4.623667</td>\n",
       "    </tr>\n",
       "  </tbody>\n",
       "</table>\n",
       "</div>"
      ],
      "text/plain": [
       "                   A         B         C         D\n",
       "2017-01-01  0.467144 -1.368871 -0.385248 -1.379729\n",
       "2017-01-02  0.435559 -2.296093 -1.219050 -1.788604\n",
       "2017-01-03  0.922411 -2.732076 -1.232907 -1.788604\n",
       "2017-01-04  0.922411 -2.623977 -0.921597 -4.515464\n",
       "2017-01-05  0.207134 -2.756001 -2.104463 -4.009159\n",
       "2017-01-06 -0.695181 -1.801476 -3.707394 -4.625220\n",
       "2017-01-07 -2.344740 -2.572842 -3.180987 -4.103109\n",
       "2017-01-08 -2.161739 -4.065062 -3.029126 -4.005095\n",
       "2017-01-09 -2.040108 -4.739239 -3.471690 -2.747144\n",
       "2017-01-10 -2.612468 -4.879113 -2.991311 -1.272808\n",
       "2017-01-11 -1.713359 -4.351024 -4.210405 -3.069913\n",
       "2017-01-12 -3.366190 -3.019723 -3.407382 -4.623667"
      ]
     },
     "execution_count": 93,
     "metadata": {},
     "output_type": "execute_result"
    }
   ],
   "source": [
    "df.apply(np.cumsum)"
   ]
  },
  {
   "cell_type": "markdown",
   "metadata": {},
   "source": [
    "lambda is the keyword used to define an anonymous function that the user defines, so for example:"
   ]
  },
  {
   "cell_type": "code",
   "execution_count": 95,
   "metadata": {},
   "outputs": [
    {
     "data": {
      "text/plain": [
       "A   -1.179626\n",
       "B   -1.582945\n",
       "C   -1.086971\n",
       "D   -1.859641\n",
       "dtype: float64"
      ]
     },
     "execution_count": 95,
     "metadata": {},
     "output_type": "execute_result"
    }
   ],
   "source": [
    "df.apply(lambda x: x.mean() - x.max())"
   ]
  },
  {
   "cell_type": "markdown",
   "metadata": {},
   "source": [
    "you can plot graphs to get a better understanding of your data. below is a histogram"
   ]
  },
  {
   "cell_type": "code",
   "execution_count": 97,
   "metadata": {},
   "outputs": [
    {
     "data": {
      "text/plain": [
       "0    2\n",
       "1    1\n",
       "2    1\n",
       "3    4\n",
       "4    3\n",
       "5    2\n",
       "6    3\n",
       "7    4\n",
       "8    3\n",
       "9    1\n",
       "dtype: int32"
      ]
     },
     "execution_count": 97,
     "metadata": {},
     "output_type": "execute_result"
    }
   ],
   "source": [
    "s2 = pd.Series(np.random.randint(0, 7, size=10))\n",
    "s2"
   ]
  },
  {
   "cell_type": "code",
   "execution_count": 98,
   "metadata": {},
   "outputs": [
    {
     "data": {
      "text/plain": [
       "3    3\n",
       "1    3\n",
       "4    2\n",
       "2    2\n",
       "dtype: int64"
      ]
     },
     "execution_count": 98,
     "metadata": {},
     "output_type": "execute_result"
    }
   ],
   "source": [
    "s2.value_counts()"
   ]
  },
  {
   "cell_type": "code",
   "execution_count": 99,
   "metadata": {},
   "outputs": [
    {
     "data": {
      "text/plain": [
       "(array([3, 0, 0, 2, 0, 0, 3, 0, 0, 2], dtype=int64),\n",
       " array([ 1. ,  1.3,  1.6,  1.9,  2.2,  2.5,  2.8,  3.1,  3.4,  3.7,  4. ]))"
      ]
     },
     "execution_count": 99,
     "metadata": {},
     "output_type": "execute_result"
    }
   ],
   "source": [
    "np.histogram(s2)"
   ]
  },
  {
   "cell_type": "code",
   "execution_count": 101,
   "metadata": {},
   "outputs": [
    {
     "data": {
      "image/png": "[encoded data removed]",
      "text/plain": [
       "<matplotlib.figure.Figure at 0x7e0e32e80>"
      ]
     },
     "metadata": {},
     "output_type": "display_data"
    }
   ],
   "source": [
    "plt.hist(s2)\n",
    "plt.show()"
   ]
  },
  {
   "cell_type": "markdown",
   "metadata": {},
   "source": [
    "### merging"
   ]
  },
  {
   "cell_type": "markdown",
   "metadata": {},
   "source": [
    "there are several methods to combine series and dataframes. one is concatenation.  below we are breaking our df and combining it again."
   ]
  },
  {
   "cell_type": "code",
   "execution_count": 103,
   "metadata": {},
   "outputs": [
    {
     "data": {
      "text/plain": [
       "[                   A         B         C         D\n",
       " 2017-01-01  0.467144 -1.368871 -0.385248 -1.379729\n",
       " 2017-01-02 -0.031585 -0.927222 -0.833803 -0.408875,\n",
       "                    A         B         C         D\n",
       " 2017-01-03  0.486853 -0.435983 -0.013856  0.000000\n",
       " 2017-01-04  0.000000  0.108098  0.311309 -2.726859\n",
       " 2017-01-05 -0.715277 -0.132024 -1.182866  0.506304\n",
       " 2017-01-06 -0.902316  0.954525 -1.602932 -0.616060\n",
       " 2017-01-07 -1.649558 -0.771366  0.526407  0.522111\n",
       " 2017-01-08  0.183001 -1.492221  0.151862  0.098014,\n",
       "                    A         B         C         D\n",
       " 2017-01-09  0.121631 -0.674177 -0.442565  1.257951\n",
       " 2017-01-10 -0.572360 -0.139874  0.480380  1.474336\n",
       " 2017-01-11  0.899110  0.528089 -1.219094 -1.797105\n",
       " 2017-01-12 -1.652831  1.331301  0.803023 -1.553754]"
      ]
     },
     "execution_count": 103,
     "metadata": {},
     "output_type": "execute_result"
    }
   ],
   "source": [
    "pieces = [df[:2], df[2:8], df[8:]]\n",
    "pieces"
   ]
  },
  {
   "cell_type": "code",
   "execution_count": 104,
   "metadata": {},
   "outputs": [
    {
     "data": {
      "text/html": [
       "<div>\n",
       "<style>\n",
       "    .dataframe thead tr:only-child th {\n",
       "        text-align: right;\n",
       "    }\n",
       "\n",
       "    .dataframe thead th {\n",
       "        text-align: left;\n",
       "    }\n",
       "\n",
       "    .dataframe tbody tr th {\n",
       "        vertical-align: top;\n",
       "    }\n",
       "</style>\n",
       "<table border=\"1\" class=\"dataframe\">\n",
       "  <thead>\n",
       "    <tr style=\"text-align: right;\">\n",
       "      <th></th>\n",
       "      <th>A</th>\n",
       "      <th>B</th>\n",
       "      <th>C</th>\n",
       "      <th>D</th>\n",
       "    </tr>\n",
       "  </thead>\n",
       "  <tbody>\n",
       "    <tr>\n",
       "      <th>2017-01-01</th>\n",
       "      <td>0.467144</td>\n",
       "      <td>-1.368871</td>\n",
       "      <td>-0.385248</td>\n",
       "      <td>-1.379729</td>\n",
       "    </tr>\n",
       "    <tr>\n",
       "      <th>2017-01-02</th>\n",
       "      <td>-0.031585</td>\n",
       "      <td>-0.927222</td>\n",
       "      <td>-0.833803</td>\n",
       "      <td>-0.408875</td>\n",
       "    </tr>\n",
       "    <tr>\n",
       "      <th>2017-01-03</th>\n",
       "      <td>0.486853</td>\n",
       "      <td>-0.435983</td>\n",
       "      <td>-0.013856</td>\n",
       "      <td>0.000000</td>\n",
       "    </tr>\n",
       "    <tr>\n",
       "      <th>2017-01-04</th>\n",
       "      <td>0.000000</td>\n",
       "      <td>0.108098</td>\n",
       "      <td>0.311309</td>\n",
       "      <td>-2.726859</td>\n",
       "    </tr>\n",
       "    <tr>\n",
       "      <th>2017-01-05</th>\n",
       "      <td>-0.715277</td>\n",
       "      <td>-0.132024</td>\n",
       "      <td>-1.182866</td>\n",
       "      <td>0.506304</td>\n",
       "    </tr>\n",
       "    <tr>\n",
       "      <th>2017-01-06</th>\n",
       "      <td>-0.902316</td>\n",
       "      <td>0.954525</td>\n",
       "      <td>-1.602932</td>\n",
       "      <td>-0.616060</td>\n",
       "    </tr>\n",
       "    <tr>\n",
       "      <th>2017-01-07</th>\n",
       "      <td>-1.649558</td>\n",
       "      <td>-0.771366</td>\n",
       "      <td>0.526407</td>\n",
       "      <td>0.522111</td>\n",
       "    </tr>\n",
       "    <tr>\n",
       "      <th>2017-01-08</th>\n",
       "      <td>0.183001</td>\n",
       "      <td>-1.492221</td>\n",
       "      <td>0.151862</td>\n",
       "      <td>0.098014</td>\n",
       "    </tr>\n",
       "    <tr>\n",
       "      <th>2017-01-09</th>\n",
       "      <td>0.121631</td>\n",
       "      <td>-0.674177</td>\n",
       "      <td>-0.442565</td>\n",
       "      <td>1.257951</td>\n",
       "    </tr>\n",
       "    <tr>\n",
       "      <th>2017-01-10</th>\n",
       "      <td>-0.572360</td>\n",
       "      <td>-0.139874</td>\n",
       "      <td>0.480380</td>\n",
       "      <td>1.474336</td>\n",
       "    </tr>\n",
       "    <tr>\n",
       "      <th>2017-01-11</th>\n",
       "      <td>0.899110</td>\n",
       "      <td>0.528089</td>\n",
       "      <td>-1.219094</td>\n",
       "      <td>-1.797105</td>\n",
       "    </tr>\n",
       "    <tr>\n",
       "      <th>2017-01-12</th>\n",
       "      <td>-1.652831</td>\n",
       "      <td>1.331301</td>\n",
       "      <td>0.803023</td>\n",
       "      <td>-1.553754</td>\n",
       "    </tr>\n",
       "  </tbody>\n",
       "</table>\n",
       "</div>"
      ],
      "text/plain": [
       "                   A         B         C         D\n",
       "2017-01-01  0.467144 -1.368871 -0.385248 -1.379729\n",
       "2017-01-02 -0.031585 -0.927222 -0.833803 -0.408875\n",
       "2017-01-03  0.486853 -0.435983 -0.013856  0.000000\n",
       "2017-01-04  0.000000  0.108098  0.311309 -2.726859\n",
       "2017-01-05 -0.715277 -0.132024 -1.182866  0.506304\n",
       "2017-01-06 -0.902316  0.954525 -1.602932 -0.616060\n",
       "2017-01-07 -1.649558 -0.771366  0.526407  0.522111\n",
       "2017-01-08  0.183001 -1.492221  0.151862  0.098014\n",
       "2017-01-09  0.121631 -0.674177 -0.442565  1.257951\n",
       "2017-01-10 -0.572360 -0.139874  0.480380  1.474336\n",
       "2017-01-11  0.899110  0.528089 -1.219094 -1.797105\n",
       "2017-01-12 -1.652831  1.331301  0.803023 -1.553754"
      ]
     },
     "execution_count": 104,
     "metadata": {},
     "output_type": "execute_result"
    }
   ],
   "source": [
    "pd.concat(pieces)"
   ]
  },
  {
   "cell_type": "markdown",
   "metadata": {},
   "source": [
    "joins are sql operations where in you join two tables. the python equivalient to that is:"
   ]
  },
  {
   "cell_type": "code",
   "execution_count": 106,
   "metadata": {},
   "outputs": [
    {
     "data": {
      "text/html": [
       "<div>\n",
       "<style>\n",
       "    .dataframe thead tr:only-child th {\n",
       "        text-align: right;\n",
       "    }\n",
       "\n",
       "    .dataframe thead th {\n",
       "        text-align: left;\n",
       "    }\n",
       "\n",
       "    .dataframe tbody tr th {\n",
       "        vertical-align: top;\n",
       "    }\n",
       "</style>\n",
       "<table border=\"1\" class=\"dataframe\">\n",
       "  <thead>\n",
       "    <tr style=\"text-align: right;\">\n",
       "      <th></th>\n",
       "      <th>key</th>\n",
       "      <th>lval</th>\n",
       "    </tr>\n",
       "  </thead>\n",
       "  <tbody>\n",
       "    <tr>\n",
       "      <th>0</th>\n",
       "      <td>yes</td>\n",
       "      <td>7</td>\n",
       "    </tr>\n",
       "    <tr>\n",
       "      <th>1</th>\n",
       "      <td>no</td>\n",
       "      <td>2</td>\n",
       "    </tr>\n",
       "  </tbody>\n",
       "</table>\n",
       "</div>"
      ],
      "text/plain": [
       "   key  lval\n",
       "0  yes     7\n",
       "1   no     2"
      ]
     },
     "execution_count": 106,
     "metadata": {},
     "output_type": "execute_result"
    }
   ],
   "source": [
    "left = pd.DataFrame({'key': ['yes', 'no'], 'lval': [7, 2]})\n",
    "left"
   ]
  },
  {
   "cell_type": "code",
   "execution_count": 107,
   "metadata": {},
   "outputs": [
    {
     "data": {
      "text/html": [
       "<div>\n",
       "<style>\n",
       "    .dataframe thead tr:only-child th {\n",
       "        text-align: right;\n",
       "    }\n",
       "\n",
       "    .dataframe thead th {\n",
       "        text-align: left;\n",
       "    }\n",
       "\n",
       "    .dataframe tbody tr th {\n",
       "        vertical-align: top;\n",
       "    }\n",
       "</style>\n",
       "<table border=\"1\" class=\"dataframe\">\n",
       "  <thead>\n",
       "    <tr style=\"text-align: right;\">\n",
       "      <th></th>\n",
       "      <th>key</th>\n",
       "      <th>rval</th>\n",
       "    </tr>\n",
       "  </thead>\n",
       "  <tbody>\n",
       "    <tr>\n",
       "      <th>0</th>\n",
       "      <td>yes</td>\n",
       "      <td>3</td>\n",
       "    </tr>\n",
       "    <tr>\n",
       "      <th>1</th>\n",
       "      <td>no</td>\n",
       "      <td>0</td>\n",
       "    </tr>\n",
       "  </tbody>\n",
       "</table>\n",
       "</div>"
      ],
      "text/plain": [
       "   key  rval\n",
       "0  yes     3\n",
       "1   no     0"
      ]
     },
     "execution_count": 107,
     "metadata": {},
     "output_type": "execute_result"
    }
   ],
   "source": [
    "right = pd.DataFrame({'key': ['yes', 'no'], 'rval': [3, 0]})\n",
    "right"
   ]
  },
  {
   "cell_type": "code",
   "execution_count": 108,
   "metadata": {},
   "outputs": [
    {
     "data": {
      "text/html": [
       "<div>\n",
       "<style>\n",
       "    .dataframe thead tr:only-child th {\n",
       "        text-align: right;\n",
       "    }\n",
       "\n",
       "    .dataframe thead th {\n",
       "        text-align: left;\n",
       "    }\n",
       "\n",
       "    .dataframe tbody tr th {\n",
       "        vertical-align: top;\n",
       "    }\n",
       "</style>\n",
       "<table border=\"1\" class=\"dataframe\">\n",
       "  <thead>\n",
       "    <tr style=\"text-align: right;\">\n",
       "      <th></th>\n",
       "      <th>key</th>\n",
       "      <th>lval</th>\n",
       "      <th>rval</th>\n",
       "    </tr>\n",
       "  </thead>\n",
       "  <tbody>\n",
       "    <tr>\n",
       "      <th>0</th>\n",
       "      <td>yes</td>\n",
       "      <td>7</td>\n",
       "      <td>3</td>\n",
       "    </tr>\n",
       "    <tr>\n",
       "      <th>1</th>\n",
       "      <td>no</td>\n",
       "      <td>2</td>\n",
       "      <td>0</td>\n",
       "    </tr>\n",
       "  </tbody>\n",
       "</table>\n",
       "</div>"
      ],
      "text/plain": [
       "   key  lval  rval\n",
       "0  yes     7     3\n",
       "1   no     2     0"
      ]
     },
     "execution_count": 108,
     "metadata": {},
     "output_type": "execute_result"
    }
   ],
   "source": [
    "pd.merge(left, right, on = 'key')"
   ]
  },
  {
   "cell_type": "markdown",
   "metadata": {},
   "source": [
    "you can also append rows to your dataframe using the .append() function:"
   ]
  },
  {
   "cell_type": "code",
   "execution_count": 111,
   "metadata": {},
   "outputs": [
    {
     "data": {
      "text/html": [
       "<div>\n",
       "<style>\n",
       "    .dataframe thead tr:only-child th {\n",
       "        text-align: right;\n",
       "    }\n",
       "\n",
       "    .dataframe thead th {\n",
       "        text-align: left;\n",
       "    }\n",
       "\n",
       "    .dataframe tbody tr th {\n",
       "        vertical-align: top;\n",
       "    }\n",
       "</style>\n",
       "<table border=\"1\" class=\"dataframe\">\n",
       "  <thead>\n",
       "    <tr style=\"text-align: right;\">\n",
       "      <th></th>\n",
       "      <th>A</th>\n",
       "      <th>B</th>\n",
       "      <th>C</th>\n",
       "      <th>D</th>\n",
       "    </tr>\n",
       "  </thead>\n",
       "  <tbody>\n",
       "    <tr>\n",
       "      <th>0</th>\n",
       "      <td>0.467144</td>\n",
       "      <td>-1.368871</td>\n",
       "      <td>-0.385248</td>\n",
       "      <td>-1.379729</td>\n",
       "    </tr>\n",
       "    <tr>\n",
       "      <th>1</th>\n",
       "      <td>-0.031585</td>\n",
       "      <td>-0.927222</td>\n",
       "      <td>-0.833803</td>\n",
       "      <td>-0.408875</td>\n",
       "    </tr>\n",
       "    <tr>\n",
       "      <th>2</th>\n",
       "      <td>0.486853</td>\n",
       "      <td>-0.435983</td>\n",
       "      <td>-0.013856</td>\n",
       "      <td>0.000000</td>\n",
       "    </tr>\n",
       "    <tr>\n",
       "      <th>3</th>\n",
       "      <td>0.000000</td>\n",
       "      <td>0.108098</td>\n",
       "      <td>0.311309</td>\n",
       "      <td>-2.726859</td>\n",
       "    </tr>\n",
       "    <tr>\n",
       "      <th>4</th>\n",
       "      <td>-0.715277</td>\n",
       "      <td>-0.132024</td>\n",
       "      <td>-1.182866</td>\n",
       "      <td>0.506304</td>\n",
       "    </tr>\n",
       "    <tr>\n",
       "      <th>5</th>\n",
       "      <td>-0.902316</td>\n",
       "      <td>0.954525</td>\n",
       "      <td>-1.602932</td>\n",
       "      <td>-0.616060</td>\n",
       "    </tr>\n",
       "    <tr>\n",
       "      <th>6</th>\n",
       "      <td>-1.649558</td>\n",
       "      <td>-0.771366</td>\n",
       "      <td>0.526407</td>\n",
       "      <td>0.522111</td>\n",
       "    </tr>\n",
       "    <tr>\n",
       "      <th>7</th>\n",
       "      <td>0.183001</td>\n",
       "      <td>-1.492221</td>\n",
       "      <td>0.151862</td>\n",
       "      <td>0.098014</td>\n",
       "    </tr>\n",
       "    <tr>\n",
       "      <th>8</th>\n",
       "      <td>0.121631</td>\n",
       "      <td>-0.674177</td>\n",
       "      <td>-0.442565</td>\n",
       "      <td>1.257951</td>\n",
       "    </tr>\n",
       "    <tr>\n",
       "      <th>9</th>\n",
       "      <td>-0.572360</td>\n",
       "      <td>-0.139874</td>\n",
       "      <td>0.480380</td>\n",
       "      <td>1.474336</td>\n",
       "    </tr>\n",
       "    <tr>\n",
       "      <th>10</th>\n",
       "      <td>0.899110</td>\n",
       "      <td>0.528089</td>\n",
       "      <td>-1.219094</td>\n",
       "      <td>-1.797105</td>\n",
       "    </tr>\n",
       "    <tr>\n",
       "      <th>11</th>\n",
       "      <td>-1.652831</td>\n",
       "      <td>1.331301</td>\n",
       "      <td>0.803023</td>\n",
       "      <td>-1.553754</td>\n",
       "    </tr>\n",
       "    <tr>\n",
       "      <th>12</th>\n",
       "      <td>-0.715277</td>\n",
       "      <td>-0.132024</td>\n",
       "      <td>-1.182866</td>\n",
       "      <td>0.506304</td>\n",
       "    </tr>\n",
       "  </tbody>\n",
       "</table>\n",
       "</div>"
      ],
      "text/plain": [
       "           A         B         C         D\n",
       "0   0.467144 -1.368871 -0.385248 -1.379729\n",
       "1  -0.031585 -0.927222 -0.833803 -0.408875\n",
       "2   0.486853 -0.435983 -0.013856  0.000000\n",
       "3   0.000000  0.108098  0.311309 -2.726859\n",
       "4  -0.715277 -0.132024 -1.182866  0.506304\n",
       "5  -0.902316  0.954525 -1.602932 -0.616060\n",
       "6  -1.649558 -0.771366  0.526407  0.522111\n",
       "7   0.183001 -1.492221  0.151862  0.098014\n",
       "8   0.121631 -0.674177 -0.442565  1.257951\n",
       "9  -0.572360 -0.139874  0.480380  1.474336\n",
       "10  0.899110  0.528089 -1.219094 -1.797105\n",
       "11 -1.652831  1.331301  0.803023 -1.553754\n",
       "12 -0.715277 -0.132024 -1.182866  0.506304"
      ]
     },
     "execution_count": 111,
     "metadata": {},
     "output_type": "execute_result"
    }
   ],
   "source": [
    "a = df.iloc[4]\n",
    "df.append(a, ignore_index = True)"
   ]
  },
  {
   "cell_type": "markdown",
   "metadata": {},
   "source": [
    "### grouping"
   ]
  },
  {
   "cell_type": "markdown",
   "metadata": {},
   "source": [
    "grouping is a process wherein you can split the data into groups, apply a function to each group independently and/or combine the results back into a data structure. the following code demonstrates that:"
   ]
  },
  {
   "cell_type": "code",
   "execution_count": 113,
   "metadata": {},
   "outputs": [
    {
     "data": {
      "text/html": [
       "<div>\n",
       "<style>\n",
       "    .dataframe thead tr:only-child th {\n",
       "        text-align: right;\n",
       "    }\n",
       "\n",
       "    .dataframe thead th {\n",
       "        text-align: left;\n",
       "    }\n",
       "\n",
       "    .dataframe tbody tr th {\n",
       "        vertical-align: top;\n",
       "    }\n",
       "</style>\n",
       "<table border=\"1\" class=\"dataframe\">\n",
       "  <thead>\n",
       "    <tr style=\"text-align: right;\">\n",
       "      <th></th>\n",
       "      <th>A</th>\n",
       "      <th>B</th>\n",
       "      <th>C</th>\n",
       "      <th>D</th>\n",
       "      <th>E</th>\n",
       "      <th>F</th>\n",
       "      <th>G</th>\n",
       "    </tr>\n",
       "  </thead>\n",
       "  <tbody>\n",
       "    <tr>\n",
       "      <th>2017-01-01</th>\n",
       "      <td>0.467144</td>\n",
       "      <td>-1.368871</td>\n",
       "      <td>2</td>\n",
       "      <td>-1.379729</td>\n",
       "      <td>q</td>\n",
       "      <td>3</td>\n",
       "      <td>yes</td>\n",
       "    </tr>\n",
       "    <tr>\n",
       "      <th>2017-01-02</th>\n",
       "      <td>-0.031585</td>\n",
       "      <td>-0.927222</td>\n",
       "      <td>2</td>\n",
       "      <td>-0.408875</td>\n",
       "      <td>w</td>\n",
       "      <td>4</td>\n",
       "      <td>no</td>\n",
       "    </tr>\n",
       "    <tr>\n",
       "      <th>2017-01-03</th>\n",
       "      <td>0.486853</td>\n",
       "      <td>-0.435983</td>\n",
       "      <td>2</td>\n",
       "      <td>0.000000</td>\n",
       "      <td>e</td>\n",
       "      <td>5</td>\n",
       "      <td>yes</td>\n",
       "    </tr>\n",
       "    <tr>\n",
       "      <th>2017-01-04</th>\n",
       "      <td>0.000000</td>\n",
       "      <td>0.108098</td>\n",
       "      <td>2</td>\n",
       "      <td>-2.726859</td>\n",
       "      <td>r</td>\n",
       "      <td>6</td>\n",
       "      <td>no</td>\n",
       "    </tr>\n",
       "    <tr>\n",
       "      <th>2017-01-05</th>\n",
       "      <td>-0.715277</td>\n",
       "      <td>-0.132024</td>\n",
       "      <td>2</td>\n",
       "      <td>0.506304</td>\n",
       "      <td>t</td>\n",
       "      <td>7</td>\n",
       "      <td>yes</td>\n",
       "    </tr>\n",
       "    <tr>\n",
       "      <th>2017-01-06</th>\n",
       "      <td>-0.902316</td>\n",
       "      <td>0.954525</td>\n",
       "      <td>2</td>\n",
       "      <td>-0.616060</td>\n",
       "      <td>y</td>\n",
       "      <td>8</td>\n",
       "      <td>no</td>\n",
       "    </tr>\n",
       "    <tr>\n",
       "      <th>2017-01-07</th>\n",
       "      <td>-1.649558</td>\n",
       "      <td>-0.771366</td>\n",
       "      <td>2</td>\n",
       "      <td>0.522111</td>\n",
       "      <td>g</td>\n",
       "      <td>9</td>\n",
       "      <td>yes</td>\n",
       "    </tr>\n",
       "    <tr>\n",
       "      <th>2017-01-08</th>\n",
       "      <td>0.183001</td>\n",
       "      <td>-1.492221</td>\n",
       "      <td>2</td>\n",
       "      <td>0.098014</td>\n",
       "      <td>j</td>\n",
       "      <td>10</td>\n",
       "      <td>no</td>\n",
       "    </tr>\n",
       "    <tr>\n",
       "      <th>2017-01-09</th>\n",
       "      <td>0.121631</td>\n",
       "      <td>-0.674177</td>\n",
       "      <td>2</td>\n",
       "      <td>1.257951</td>\n",
       "      <td>k</td>\n",
       "      <td>11</td>\n",
       "      <td>yes</td>\n",
       "    </tr>\n",
       "    <tr>\n",
       "      <th>2017-01-10</th>\n",
       "      <td>-0.572360</td>\n",
       "      <td>-0.139874</td>\n",
       "      <td>2</td>\n",
       "      <td>1.474336</td>\n",
       "      <td>l</td>\n",
       "      <td>12</td>\n",
       "      <td>no</td>\n",
       "    </tr>\n",
       "    <tr>\n",
       "      <th>2017-01-11</th>\n",
       "      <td>0.899110</td>\n",
       "      <td>0.528089</td>\n",
       "      <td>2</td>\n",
       "      <td>-1.797105</td>\n",
       "      <td>f</td>\n",
       "      <td>13</td>\n",
       "      <td>yes</td>\n",
       "    </tr>\n",
       "    <tr>\n",
       "      <th>2017-01-12</th>\n",
       "      <td>-1.652831</td>\n",
       "      <td>1.331301</td>\n",
       "      <td>2</td>\n",
       "      <td>-1.553754</td>\n",
       "      <td>s</td>\n",
       "      <td>14</td>\n",
       "      <td>no</td>\n",
       "    </tr>\n",
       "  </tbody>\n",
       "</table>\n",
       "</div>"
      ],
      "text/plain": [
       "                   A         B  C         D  E   F    G\n",
       "2017-01-01  0.467144 -1.368871  2 -1.379729  q   3  yes\n",
       "2017-01-02 -0.031585 -0.927222  2 -0.408875  w   4   no\n",
       "2017-01-03  0.486853 -0.435983  2  0.000000  e   5  yes\n",
       "2017-01-04  0.000000  0.108098  2 -2.726859  r   6   no\n",
       "2017-01-05 -0.715277 -0.132024  2  0.506304  t   7  yes\n",
       "2017-01-06 -0.902316  0.954525  2 -0.616060  y   8   no\n",
       "2017-01-07 -1.649558 -0.771366  2  0.522111  g   9  yes\n",
       "2017-01-08  0.183001 -1.492221  2  0.098014  j  10   no\n",
       "2017-01-09  0.121631 -0.674177  2  1.257951  k  11  yes\n",
       "2017-01-10 -0.572360 -0.139874  2  1.474336  l  12   no\n",
       "2017-01-11  0.899110  0.528089  2 -1.797105  f  13  yes\n",
       "2017-01-12 -1.652831  1.331301  2 -1.553754  s  14   no"
      ]
     },
     "execution_count": 113,
     "metadata": {},
     "output_type": "execute_result"
    }
   ],
   "source": [
    "df3['G'] = ['yes', 'no', 'yes', 'no', 'yes', 'no', 'yes', 'no', 'yes', 'no', 'yes', 'no', ]\n",
    "df3"
   ]
  },
  {
   "cell_type": "code",
   "execution_count": 115,
   "metadata": {},
   "outputs": [
    {
     "data": {
      "text/html": [
       "<div>\n",
       "<style>\n",
       "    .dataframe thead tr:only-child th {\n",
       "        text-align: right;\n",
       "    }\n",
       "\n",
       "    .dataframe thead th {\n",
       "        text-align: left;\n",
       "    }\n",
       "\n",
       "    .dataframe tbody tr th {\n",
       "        vertical-align: top;\n",
       "    }\n",
       "</style>\n",
       "<table border=\"1\" class=\"dataframe\">\n",
       "  <thead>\n",
       "    <tr style=\"text-align: right;\">\n",
       "      <th></th>\n",
       "      <th>A</th>\n",
       "      <th>B</th>\n",
       "      <th>C</th>\n",
       "      <th>D</th>\n",
       "      <th>F</th>\n",
       "    </tr>\n",
       "    <tr>\n",
       "      <th>G</th>\n",
       "      <th></th>\n",
       "      <th></th>\n",
       "      <th></th>\n",
       "      <th></th>\n",
       "      <th></th>\n",
       "    </tr>\n",
       "  </thead>\n",
       "  <tbody>\n",
       "    <tr>\n",
       "      <th>no</th>\n",
       "      <td>-2.976092</td>\n",
       "      <td>-0.165392</td>\n",
       "      <td>12</td>\n",
       "      <td>-3.733199</td>\n",
       "      <td>54</td>\n",
       "    </tr>\n",
       "    <tr>\n",
       "      <th>yes</th>\n",
       "      <td>-0.390098</td>\n",
       "      <td>-2.854331</td>\n",
       "      <td>12</td>\n",
       "      <td>-0.890468</td>\n",
       "      <td>48</td>\n",
       "    </tr>\n",
       "  </tbody>\n",
       "</table>\n",
       "</div>"
      ],
      "text/plain": [
       "            A         B   C         D   F\n",
       "G                                        \n",
       "no  -2.976092 -0.165392  12 -3.733199  54\n",
       "yes -0.390098 -2.854331  12 -0.890468  48"
      ]
     },
     "execution_count": 115,
     "metadata": {},
     "output_type": "execute_result"
    }
   ],
   "source": [
    "df3.groupby('G').sum()"
   ]
  },
  {
   "cell_type": "markdown",
   "metadata": {},
   "source": [
    "### reshaping"
   ]
  },
  {
   "cell_type": "markdown",
   "metadata": {},
   "source": [
    "there are two methods for reshapingL stack() and unstack(). stack() pivots a level of the column labels, and returns a dataframe with an index with a new inner-most level of row labels.unstack() does the opposite. it pivots a level of the row index to the column axis, producing a reshaped dataframe with a new inner-most level of column labels"
   ]
  },
  {
   "cell_type": "code",
   "execution_count": 116,
   "metadata": {},
   "outputs": [
    {
     "data": {
      "text/html": [
       "<div>\n",
       "<style>\n",
       "    .dataframe thead tr:only-child th {\n",
       "        text-align: right;\n",
       "    }\n",
       "\n",
       "    .dataframe thead th {\n",
       "        text-align: left;\n",
       "    }\n",
       "\n",
       "    .dataframe tbody tr th {\n",
       "        vertical-align: top;\n",
       "    }\n",
       "</style>\n",
       "<table border=\"1\" class=\"dataframe\">\n",
       "  <thead>\n",
       "    <tr style=\"text-align: right;\">\n",
       "      <th></th>\n",
       "      <th></th>\n",
       "      <th>A</th>\n",
       "      <th>B</th>\n",
       "    </tr>\n",
       "    <tr>\n",
       "      <th>first</th>\n",
       "      <th>second</th>\n",
       "      <th></th>\n",
       "      <th></th>\n",
       "    </tr>\n",
       "  </thead>\n",
       "  <tbody>\n",
       "    <tr>\n",
       "      <th rowspan=\"2\" valign=\"top\">one</th>\n",
       "      <th>yes</th>\n",
       "      <td>-0.725199</td>\n",
       "      <td>-0.134364</td>\n",
       "    </tr>\n",
       "    <tr>\n",
       "      <th>no</th>\n",
       "      <td>-1.685346</td>\n",
       "      <td>0.106714</td>\n",
       "    </tr>\n",
       "    <tr>\n",
       "      <th rowspan=\"2\" valign=\"top\">two</th>\n",
       "      <th>yes</th>\n",
       "      <td>0.552515</td>\n",
       "      <td>0.436165</td>\n",
       "    </tr>\n",
       "    <tr>\n",
       "      <th>no</th>\n",
       "      <td>-0.133417</td>\n",
       "      <td>1.379165</td>\n",
       "    </tr>\n",
       "  </tbody>\n",
       "</table>\n",
       "</div>"
      ],
      "text/plain": [
       "                     A         B\n",
       "first second                    \n",
       "one   yes    -0.725199 -0.134364\n",
       "      no     -1.685346  0.106714\n",
       "two   yes     0.552515  0.436165\n",
       "      no     -0.133417  1.379165"
      ]
     },
     "execution_count": 116,
     "metadata": {},
     "output_type": "execute_result"
    }
   ],
   "source": [
    "tuples = list(zip(*[['one', 'one', 'two', 'two', 'three', 'three', 'four', 'four'],\n",
    "                     ['yes', 'no', 'yes', 'no', 'yes', 'no',  'yes', 'no']]))\n",
    "i = pd.MultiIndex.from_tuples(tuples, names=['first', 'second'])\n",
    "df5 = pd.DataFrame(np.random.randn(8, 2), index = i, columns=['A', 'B'])\n",
    "df6 = df5[:4]\n",
    "df6"
   ]
  },
  {
   "cell_type": "code",
   "execution_count": 117,
   "metadata": {},
   "outputs": [
    {
     "data": {
      "text/plain": [
       "first  second   \n",
       "one    yes     A   -0.725199\n",
       "               B   -0.134364\n",
       "       no      A   -1.685346\n",
       "               B    0.106714\n",
       "two    yes     A    0.552515\n",
       "               B    0.436165\n",
       "       no      A   -0.133417\n",
       "               B    1.379165\n",
       "dtype: float64"
      ]
     },
     "execution_count": 117,
     "metadata": {},
     "output_type": "execute_result"
    }
   ],
   "source": [
    "df6.stack()"
   ]
  },
  {
   "cell_type": "code",
   "execution_count": 118,
   "metadata": {},
   "outputs": [
    {
     "data": {
      "text/html": [
       "<div>\n",
       "<style>\n",
       "    .dataframe thead tr:only-child th {\n",
       "        text-align: right;\n",
       "    }\n",
       "\n",
       "    .dataframe thead th {\n",
       "        text-align: left;\n",
       "    }\n",
       "\n",
       "    .dataframe tbody tr th {\n",
       "        vertical-align: top;\n",
       "    }\n",
       "</style>\n",
       "<table border=\"1\" class=\"dataframe\">\n",
       "  <thead>\n",
       "    <tr>\n",
       "      <th></th>\n",
       "      <th colspan=\"2\" halign=\"left\">A</th>\n",
       "      <th colspan=\"2\" halign=\"left\">B</th>\n",
       "    </tr>\n",
       "    <tr>\n",
       "      <th>second</th>\n",
       "      <th>no</th>\n",
       "      <th>yes</th>\n",
       "      <th>no</th>\n",
       "      <th>yes</th>\n",
       "    </tr>\n",
       "    <tr>\n",
       "      <th>first</th>\n",
       "      <th></th>\n",
       "      <th></th>\n",
       "      <th></th>\n",
       "      <th></th>\n",
       "    </tr>\n",
       "  </thead>\n",
       "  <tbody>\n",
       "    <tr>\n",
       "      <th>one</th>\n",
       "      <td>-1.685346</td>\n",
       "      <td>-0.725199</td>\n",
       "      <td>0.106714</td>\n",
       "      <td>-0.134364</td>\n",
       "    </tr>\n",
       "    <tr>\n",
       "      <th>two</th>\n",
       "      <td>-0.133417</td>\n",
       "      <td>0.552515</td>\n",
       "      <td>1.379165</td>\n",
       "      <td>0.436165</td>\n",
       "    </tr>\n",
       "  </tbody>\n",
       "</table>\n",
       "</div>"
      ],
      "text/plain": [
       "               A                   B          \n",
       "second        no       yes        no       yes\n",
       "first                                         \n",
       "one    -1.685346 -0.725199  0.106714 -0.134364\n",
       "two    -0.133417  0.552515  1.379165  0.436165"
      ]
     },
     "execution_count": 118,
     "metadata": {},
     "output_type": "execute_result"
    }
   ],
   "source": [
    "df6.unstack()"
   ]
  },
  {
   "cell_type": "markdown",
   "metadata": {},
   "source": [
    "### time series"
   ]
  },
  {
   "cell_type": "markdown",
   "metadata": {},
   "source": [
    "pandas is a very successful tool for working with time series data, especially in the financial data analysis space. an example is resampling operations during frequency conversion:"
   ]
  },
  {
   "cell_type": "code",
   "execution_count": 125,
   "metadata": {},
   "outputs": [
    {
     "data": {
      "text/plain": [
       "2012-01-01 00:00:00     33\n",
       "2012-01-01 00:01:00    278\n",
       "2012-01-01 00:02:00    295\n",
       "2012-01-01 00:03:00    423\n",
       "2012-01-01 00:04:00     24\n",
       "2012-01-01 00:05:00    373\n",
       "2012-01-01 00:06:00    213\n",
       "2012-01-01 00:07:00    175\n",
       "2012-01-01 00:08:00    105\n",
       "2012-01-01 00:09:00    108\n",
       "2012-01-01 00:10:00    100\n",
       "2012-01-01 00:11:00    348\n",
       "2012-01-01 00:12:00    234\n",
       "2012-01-01 00:13:00    436\n",
       "2012-01-01 00:14:00    157\n",
       "2012-01-01 00:15:00    484\n",
       "2012-01-01 00:16:00    272\n",
       "2012-01-01 00:17:00    360\n",
       "2012-01-01 00:18:00     45\n",
       "2012-01-01 00:19:00    222\n",
       "2012-01-01 00:20:00    219\n",
       "2012-01-01 00:21:00    263\n",
       "2012-01-01 00:22:00    331\n",
       "2012-01-01 00:23:00    172\n",
       "2012-01-01 00:24:00     47\n",
       "2012-01-01 00:25:00    178\n",
       "2012-01-01 00:26:00    227\n",
       "2012-01-01 00:27:00    278\n",
       "2012-01-01 00:28:00    312\n",
       "2012-01-01 00:29:00     88\n",
       "                      ... \n",
       "2012-01-01 01:10:00    460\n",
       "2012-01-01 01:11:00    474\n",
       "2012-01-01 01:12:00    244\n",
       "2012-01-01 01:13:00    397\n",
       "2012-01-01 01:14:00    349\n",
       "2012-01-01 01:15:00    392\n",
       "2012-01-01 01:16:00    178\n",
       "2012-01-01 01:17:00     68\n",
       "2012-01-01 01:18:00    186\n",
       "2012-01-01 01:19:00    204\n",
       "2012-01-01 01:20:00    304\n",
       "2012-01-01 01:21:00    492\n",
       "2012-01-01 01:22:00     94\n",
       "2012-01-01 01:23:00     22\n",
       "2012-01-01 01:24:00    127\n",
       "2012-01-01 01:25:00    235\n",
       "2012-01-01 01:26:00    233\n",
       "2012-01-01 01:27:00    433\n",
       "2012-01-01 01:28:00    373\n",
       "2012-01-01 01:29:00    494\n",
       "2012-01-01 01:30:00    177\n",
       "2012-01-01 01:31:00     84\n",
       "2012-01-01 01:32:00    295\n",
       "2012-01-01 01:33:00    388\n",
       "2012-01-01 01:34:00    148\n",
       "2012-01-01 01:35:00    415\n",
       "2012-01-01 01:36:00     68\n",
       "2012-01-01 01:37:00    309\n",
       "2012-01-01 01:38:00    249\n",
       "2012-01-01 01:39:00    302\n",
       "Freq: T, Length: 100, dtype: int32"
      ]
     },
     "execution_count": 125,
     "metadata": {},
     "output_type": "execute_result"
    }
   ],
   "source": [
    "rng = pd.date_range('1/1/2012', periods=100, freq='Min')\n",
    "ts = pd.Series(np.random.randint(0, 500, len(rng)), index=rng)\n",
    "ts"
   ]
  },
  {
   "cell_type": "code",
   "execution_count": 126,
   "metadata": {},
   "outputs": [
    {
     "data": {
      "text/plain": [
       "2012-01-01 00:00:00    1053\n",
       "2012-01-01 00:05:00     974\n",
       "2012-01-01 00:10:00    1275\n",
       "2012-01-01 00:15:00    1383\n",
       "2012-01-01 00:20:00    1032\n",
       "2012-01-01 00:25:00    1083\n",
       "2012-01-01 00:30:00    1091\n",
       "2012-01-01 00:35:00     757\n",
       "2012-01-01 00:40:00    1350\n",
       "2012-01-01 00:45:00    1026\n",
       "2012-01-01 00:50:00    1140\n",
       "2012-01-01 00:55:00    1327\n",
       "2012-01-01 01:00:00     659\n",
       "2012-01-01 01:05:00    1280\n",
       "2012-01-01 01:10:00    1924\n",
       "2012-01-01 01:15:00    1028\n",
       "2012-01-01 01:20:00    1039\n",
       "2012-01-01 01:25:00    1768\n",
       "2012-01-01 01:30:00    1092\n",
       "2012-01-01 01:35:00    1343\n",
       "Freq: 5T, dtype: int32"
      ]
     },
     "execution_count": 126,
     "metadata": {},
     "output_type": "execute_result"
    }
   ],
   "source": [
    "ts.resample('5Min').sum()"
   ]
  },
  {
   "cell_type": "markdown",
   "metadata": {},
   "source": [
    "a timezone can be represented as follows:"
   ]
  },
  {
   "cell_type": "code",
   "execution_count": 130,
   "metadata": {},
   "outputs": [
    {
     "data": {
      "text/plain": [
       "2017-03-31    0.139299\n",
       "2017-04-30    1.393528\n",
       "2017-05-31    0.823435\n",
       "2017-06-30    1.919483\n",
       "2017-07-31    0.075925\n",
       "Freq: M, dtype: float64"
      ]
     },
     "execution_count": 130,
     "metadata": {},
     "output_type": "execute_result"
    }
   ],
   "source": [
    "rng = pd.date_range('3/6/2017 00:00', periods=5, freq='M')\n",
    "ts1 = pd.Series(np.random.randn(len(rng)), rng)\n",
    "ts1"
   ]
  },
  {
   "cell_type": "code",
   "execution_count": 132,
   "metadata": {},
   "outputs": [
    {
     "data": {
      "text/plain": [
       "2012-01-01 00:00:00+00:00     33\n",
       "2012-01-01 00:01:00+00:00    278\n",
       "2012-01-01 00:02:00+00:00    295\n",
       "2012-01-01 00:03:00+00:00    423\n",
       "2012-01-01 00:04:00+00:00     24\n",
       "2012-01-01 00:05:00+00:00    373\n",
       "2012-01-01 00:06:00+00:00    213\n",
       "2012-01-01 00:07:00+00:00    175\n",
       "2012-01-01 00:08:00+00:00    105\n",
       "2012-01-01 00:09:00+00:00    108\n",
       "2012-01-01 00:10:00+00:00    100\n",
       "2012-01-01 00:11:00+00:00    348\n",
       "2012-01-01 00:12:00+00:00    234\n",
       "2012-01-01 00:13:00+00:00    436\n",
       "2012-01-01 00:14:00+00:00    157\n",
       "2012-01-01 00:15:00+00:00    484\n",
       "2012-01-01 00:16:00+00:00    272\n",
       "2012-01-01 00:17:00+00:00    360\n",
       "2012-01-01 00:18:00+00:00     45\n",
       "2012-01-01 00:19:00+00:00    222\n",
       "2012-01-01 00:20:00+00:00    219\n",
       "2012-01-01 00:21:00+00:00    263\n",
       "2012-01-01 00:22:00+00:00    331\n",
       "2012-01-01 00:23:00+00:00    172\n",
       "2012-01-01 00:24:00+00:00     47\n",
       "2012-01-01 00:25:00+00:00    178\n",
       "2012-01-01 00:26:00+00:00    227\n",
       "2012-01-01 00:27:00+00:00    278\n",
       "2012-01-01 00:28:00+00:00    312\n",
       "2012-01-01 00:29:00+00:00     88\n",
       "                            ... \n",
       "2012-01-01 01:10:00+00:00    460\n",
       "2012-01-01 01:11:00+00:00    474\n",
       "2012-01-01 01:12:00+00:00    244\n",
       "2012-01-01 01:13:00+00:00    397\n",
       "2012-01-01 01:14:00+00:00    349\n",
       "2012-01-01 01:15:00+00:00    392\n",
       "2012-01-01 01:16:00+00:00    178\n",
       "2012-01-01 01:17:00+00:00     68\n",
       "2012-01-01 01:18:00+00:00    186\n",
       "2012-01-01 01:19:00+00:00    204\n",
       "2012-01-01 01:20:00+00:00    304\n",
       "2012-01-01 01:21:00+00:00    492\n",
       "2012-01-01 01:22:00+00:00     94\n",
       "2012-01-01 01:23:00+00:00     22\n",
       "2012-01-01 01:24:00+00:00    127\n",
       "2012-01-01 01:25:00+00:00    235\n",
       "2012-01-01 01:26:00+00:00    233\n",
       "2012-01-01 01:27:00+00:00    433\n",
       "2012-01-01 01:28:00+00:00    373\n",
       "2012-01-01 01:29:00+00:00    494\n",
       "2012-01-01 01:30:00+00:00    177\n",
       "2012-01-01 01:31:00+00:00     84\n",
       "2012-01-01 01:32:00+00:00    295\n",
       "2012-01-01 01:33:00+00:00    388\n",
       "2012-01-01 01:34:00+00:00    148\n",
       "2012-01-01 01:35:00+00:00    415\n",
       "2012-01-01 01:36:00+00:00     68\n",
       "2012-01-01 01:37:00+00:00    309\n",
       "2012-01-01 01:38:00+00:00    249\n",
       "2012-01-01 01:39:00+00:00    302\n",
       "Freq: T, Length: 100, dtype: int32"
      ]
     },
     "execution_count": 132,
     "metadata": {},
     "output_type": "execute_result"
    }
   ],
   "source": [
    "ts_utc = ts.tz_localize('UTC')\n",
    "ts_utc"
   ]
  },
  {
   "cell_type": "markdown",
   "metadata": {},
   "source": [
    "### categoricals"
   ]
  },
  {
   "cell_type": "markdown",
   "metadata": {},
   "source": [
    "pandas dataframes can include categories within them. you can convert something into a categorical data type by usying the .astype() function:"
   ]
  },
  {
   "cell_type": "code",
   "execution_count": 137,
   "metadata": {},
   "outputs": [
    {
     "data": {
      "text/html": [
       "<div>\n",
       "<style>\n",
       "    .dataframe thead tr:only-child th {\n",
       "        text-align: right;\n",
       "    }\n",
       "\n",
       "    .dataframe thead th {\n",
       "        text-align: left;\n",
       "    }\n",
       "\n",
       "    .dataframe tbody tr th {\n",
       "        vertical-align: top;\n",
       "    }\n",
       "</style>\n",
       "<table border=\"1\" class=\"dataframe\">\n",
       "  <thead>\n",
       "    <tr style=\"text-align: right;\">\n",
       "      <th></th>\n",
       "      <th>number</th>\n",
       "      <th>raw_grade</th>\n",
       "    </tr>\n",
       "  </thead>\n",
       "  <tbody>\n",
       "    <tr>\n",
       "      <th>0</th>\n",
       "      <td>2</td>\n",
       "      <td>a</td>\n",
       "    </tr>\n",
       "    <tr>\n",
       "      <th>1</th>\n",
       "      <td>5</td>\n",
       "      <td>b</td>\n",
       "    </tr>\n",
       "    <tr>\n",
       "      <th>2</th>\n",
       "      <td>4</td>\n",
       "      <td>c</td>\n",
       "    </tr>\n",
       "    <tr>\n",
       "      <th>3</th>\n",
       "      <td>7</td>\n",
       "      <td>d</td>\n",
       "    </tr>\n",
       "    <tr>\n",
       "      <th>4</th>\n",
       "      <td>3</td>\n",
       "      <td>e</td>\n",
       "    </tr>\n",
       "    <tr>\n",
       "      <th>5</th>\n",
       "      <td>0</td>\n",
       "      <td>f</td>\n",
       "    </tr>\n",
       "  </tbody>\n",
       "</table>\n",
       "</div>"
      ],
      "text/plain": [
       "   number raw_grade\n",
       "0       2         a\n",
       "1       5         b\n",
       "2       4         c\n",
       "3       7         d\n",
       "4       3         e\n",
       "5       0         f"
      ]
     },
     "execution_count": 137,
     "metadata": {},
     "output_type": "execute_result"
    }
   ],
   "source": [
    "df = pd.DataFrame({\"number\": [2,5,4,7,3,0], \"raw_grade\": ['a', 'b', 'c', 'd', 'e', 'f']})\n",
    "df"
   ]
  },
  {
   "cell_type": "code",
   "execution_count": 138,
   "metadata": {},
   "outputs": [
    {
     "data": {
      "text/html": [
       "<div>\n",
       "<style>\n",
       "    .dataframe thead tr:only-child th {\n",
       "        text-align: right;\n",
       "    }\n",
       "\n",
       "    .dataframe thead th {\n",
       "        text-align: left;\n",
       "    }\n",
       "\n",
       "    .dataframe tbody tr th {\n",
       "        vertical-align: top;\n",
       "    }\n",
       "</style>\n",
       "<table border=\"1\" class=\"dataframe\">\n",
       "  <thead>\n",
       "    <tr style=\"text-align: right;\">\n",
       "      <th></th>\n",
       "      <th>number</th>\n",
       "      <th>raw_grade</th>\n",
       "      <th>grade</th>\n",
       "    </tr>\n",
       "  </thead>\n",
       "  <tbody>\n",
       "    <tr>\n",
       "      <th>0</th>\n",
       "      <td>2</td>\n",
       "      <td>a</td>\n",
       "      <td>a</td>\n",
       "    </tr>\n",
       "    <tr>\n",
       "      <th>1</th>\n",
       "      <td>5</td>\n",
       "      <td>b</td>\n",
       "      <td>b</td>\n",
       "    </tr>\n",
       "    <tr>\n",
       "      <th>2</th>\n",
       "      <td>4</td>\n",
       "      <td>c</td>\n",
       "      <td>c</td>\n",
       "    </tr>\n",
       "    <tr>\n",
       "      <th>3</th>\n",
       "      <td>7</td>\n",
       "      <td>d</td>\n",
       "      <td>d</td>\n",
       "    </tr>\n",
       "    <tr>\n",
       "      <th>4</th>\n",
       "      <td>3</td>\n",
       "      <td>e</td>\n",
       "      <td>e</td>\n",
       "    </tr>\n",
       "    <tr>\n",
       "      <th>5</th>\n",
       "      <td>0</td>\n",
       "      <td>f</td>\n",
       "      <td>f</td>\n",
       "    </tr>\n",
       "  </tbody>\n",
       "</table>\n",
       "</div>"
      ],
      "text/plain": [
       "   number raw_grade grade\n",
       "0       2         a     a\n",
       "1       5         b     b\n",
       "2       4         c     c\n",
       "3       7         d     d\n",
       "4       3         e     e\n",
       "5       0         f     f"
      ]
     },
     "execution_count": 138,
     "metadata": {},
     "output_type": "execute_result"
    }
   ],
   "source": [
    "df[\"grade\"] = df[\"raw_grade\"].astype(\"category\")\n",
    "df"
   ]
  },
  {
   "cell_type": "code",
   "execution_count": 139,
   "metadata": {},
   "outputs": [
    {
     "data": {
      "text/plain": [
       "0    a\n",
       "1    b\n",
       "2    c\n",
       "3    d\n",
       "4    e\n",
       "5    f\n",
       "Name: grade, dtype: category\n",
       "Categories (6, object): [a, b, c, d, e, f]"
      ]
     },
     "execution_count": 139,
     "metadata": {},
     "output_type": "execute_result"
    }
   ],
   "source": [
    "df[\"grade\"]"
   ]
  },
  {
   "cell_type": "code",
   "execution_count": 142,
   "metadata": {},
   "outputs": [
    {
     "data": {
      "text/html": [
       "<div>\n",
       "<style>\n",
       "    .dataframe thead tr:only-child th {\n",
       "        text-align: right;\n",
       "    }\n",
       "\n",
       "    .dataframe thead th {\n",
       "        text-align: left;\n",
       "    }\n",
       "\n",
       "    .dataframe tbody tr th {\n",
       "        vertical-align: top;\n",
       "    }\n",
       "</style>\n",
       "<table border=\"1\" class=\"dataframe\">\n",
       "  <thead>\n",
       "    <tr style=\"text-align: right;\">\n",
       "      <th></th>\n",
       "      <th>number</th>\n",
       "      <th>raw_grade</th>\n",
       "      <th>grade</th>\n",
       "    </tr>\n",
       "  </thead>\n",
       "  <tbody>\n",
       "    <tr>\n",
       "      <th>0</th>\n",
       "      <td>2</td>\n",
       "      <td>a</td>\n",
       "      <td>excellent</td>\n",
       "    </tr>\n",
       "    <tr>\n",
       "      <th>1</th>\n",
       "      <td>5</td>\n",
       "      <td>b</td>\n",
       "      <td>good</td>\n",
       "    </tr>\n",
       "    <tr>\n",
       "      <th>2</th>\n",
       "      <td>4</td>\n",
       "      <td>c</td>\n",
       "      <td>okay</td>\n",
       "    </tr>\n",
       "    <tr>\n",
       "      <th>3</th>\n",
       "      <td>7</td>\n",
       "      <td>d</td>\n",
       "      <td>bad</td>\n",
       "    </tr>\n",
       "    <tr>\n",
       "      <th>4</th>\n",
       "      <td>3</td>\n",
       "      <td>e</td>\n",
       "      <td>miserable</td>\n",
       "    </tr>\n",
       "    <tr>\n",
       "      <th>5</th>\n",
       "      <td>0</td>\n",
       "      <td>f</td>\n",
       "      <td>fail</td>\n",
       "    </tr>\n",
       "  </tbody>\n",
       "</table>\n",
       "</div>"
      ],
      "text/plain": [
       "   number raw_grade      grade\n",
       "0       2         a  excellent\n",
       "1       5         b       good\n",
       "2       4         c       okay\n",
       "3       7         d        bad\n",
       "4       3         e  miserable\n",
       "5       0         f       fail"
      ]
     },
     "execution_count": 142,
     "metadata": {},
     "output_type": "execute_result"
    }
   ],
   "source": [
    "# renaming the grade cateogry to have more meaningful names using .cat.categories method\n",
    "\n",
    "df[\"grade\"].cat.categories = [\"excellent\", \"good\", \"okay\", \"bad\", \"miserable\", \"fail\"]\n",
    "df"
   ]
  },
  {
   "cell_type": "markdown",
   "metadata": {},
   "source": [
    "### plotting"
   ]
  },
  {
   "cell_type": "markdown",
   "metadata": {},
   "source": [
    "there are many ways to plot your data to better understand it:"
   ]
  },
  {
   "cell_type": "code",
   "execution_count": 145,
   "metadata": {},
   "outputs": [
    {
     "data": {
      "image/png": "[encoded data removed]",
      "text/plain": [
       "<matplotlib.figure.Figure at 0x7e12a55c0>"
      ]
     },
     "metadata": {},
     "output_type": "display_data"
    }
   ],
   "source": [
    "ts3 = pd.Series(np.random.randn(100), index = pd.date_range('1/1/2003', periods=100))\n",
    "ts3 = ts3.cumsum()\n",
    "ts3.plot()\n",
    "plt.show()"
   ]
  },
  {
   "cell_type": "code",
   "execution_count": 148,
   "metadata": {},
   "outputs": [
    {
     "data": {
      "text/plain": [
       "<matplotlib.figure.Figure at 0x7e153c6d8>"
      ]
     },
     "metadata": {},
     "output_type": "display_data"
    },
    {
     "data": {
      "image/png": "[encoded data removed]",
      "text/plain": [
       "<matplotlib.figure.Figure at 0x7e15024a8>"
      ]
     },
     "metadata": {},
     "output_type": "display_data"
    },
    {
     "data": {
      "text/plain": [
       "<matplotlib.figure.Figure at 0x7e1541e48>"
      ]
     },
     "metadata": {},
     "output_type": "display_data"
    },
    {
     "data": {
      "image/png": "[encoded data removed]",
      "text/plain": [
       "<matplotlib.figure.Figure at 0x7e261bcc0>"
      ]
     },
     "metadata": {},
     "output_type": "display_data"
    }
   ],
   "source": [
    "df = pd.DataFrame(np.random.randn(100, 4), index=ts.index, columns=['A', 'B', 'C', 'D'])\n",
    "df = df.cumsum()\n",
    "plt.figure(); df.plot(); plt.legend(loc='best')\n",
    "plt.show()"
   ]
  },
  {
   "cell_type": "markdown",
   "metadata": {},
   "source": [
    "### reading/writing data"
   ]
  },
  {
   "cell_type": "markdown",
   "metadata": {},
   "source": [
    "a csv file is a file whose data is separated by commas. to read a csv file, we use the function pd.read_csv() and to write to one we use the function pd.to_csv()"
   ]
  },
  {
   "cell_type": "markdown",
   "metadata": {},
   "source": [
    "to read an hdf5 file, we use pd.read_hdf and to write we use pd.to_hdf"
   ]
  },
  {
   "cell_type": "markdown",
   "metadata": {},
   "source": [
    "for excel:\n",
    "read - pd.read_excel\n",
    "write - pd.to_excel"
   ]
  },
  {
   "cell_type": "code",
   "execution_count": null,
   "metadata": {
    "collapsed": true
   },
   "outputs": [],
   "source": []
  }
 ],
 "metadata": {
  "kernelspec": {
   "display_name": "Python 3",
   "language": "python",
   "name": "python3"
  },
  "language_info": {
   "codemirror_mode": {
    "name": "ipython",
    "version": 3
   },
   "file_extension": ".py",
   "mimetype": "text/x-python",
   "name": "python",
   "nbconvert_exporter": "python",
   "pygments_lexer": "ipython3",
   "version": "3.6.2"
  }
 },
 "nbformat": 4,
 "nbformat_minor": 2
}
